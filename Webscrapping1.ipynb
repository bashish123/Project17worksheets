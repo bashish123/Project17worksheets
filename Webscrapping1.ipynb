{
 "cells": [
  {
   "cell_type": "code",
   "execution_count": 1,
   "metadata": {
    "scrolled": true
   },
   "outputs": [
    {
     "name": "stdout",
     "output_type": "stream",
     "text": [
      "Requirement already satisfied: bs4 in c:\\programdata\\anaconda3\\lib\\site-packages (0.0.1)\n",
      "Requirement already satisfied: beautifulsoup4 in c:\\programdata\\anaconda3\\lib\\site-packages (from bs4) (4.8.0)\n",
      "Requirement already satisfied: soupsieve>=1.2 in c:\\programdata\\anaconda3\\lib\\site-packages (from beautifulsoup4->bs4) (1.9.3)\n",
      "Requirement already satisfied: requests in c:\\programdata\\anaconda3\\lib\\site-packages (2.22.0)\n",
      "Requirement already satisfied: urllib3!=1.25.0,!=1.25.1,<1.26,>=1.21.1 in c:\\programdata\\anaconda3\\lib\\site-packages (from requests) (1.24.2)\n",
      "Requirement already satisfied: certifi>=2017.4.17 in c:\\programdata\\anaconda3\\lib\\site-packages (from requests) (2019.9.11)\n",
      "Requirement already satisfied: idna<2.9,>=2.5 in c:\\programdata\\anaconda3\\lib\\site-packages (from requests) (2.8)\n",
      "Requirement already satisfied: chardet<3.1.0,>=3.0.2 in c:\\programdata\\anaconda3\\lib\\site-packages (from requests) (3.0.4)\n"
     ]
    }
   ],
   "source": [
    "!pip install bs4\n",
    "!pip install requests"
   ]
  },
  {
   "cell_type": "markdown",
   "metadata": {},
   "source": []
  },
  {
   "cell_type": "code",
   "execution_count": 2,
   "metadata": {},
   "outputs": [],
   "source": [
    "#importing required libraries\n",
    "from bs4 import BeautifulSoup\n",
    "import requests\n",
    "import pandas as pd"
   ]
  },
  {
   "cell_type": "code",
   "execution_count": 3,
   "metadata": {},
   "outputs": [
    {
     "data": {
      "text/plain": [
       "<Response [200]>"
      ]
     },
     "execution_count": 3,
     "metadata": {},
     "output_type": "execute_result"
    }
   ],
   "source": [
    "page=requests.get(\"http://en.wikipedia.org/wiki/Main_Page?\")\n",
    "page#checking page response"
   ]
  },
  {
   "cell_type": "code",
   "execution_count": 4,
   "metadata": {},
   "outputs": [],
   "source": [
    "soup=BeautifulSoup(page.content)"
   ]
  },
  {
   "cell_type": "markdown",
   "metadata": {},
   "source": [
    "#### 1. Write a python program to display all the header tags from ‘en.wikipedia.org/wiki/Main_Page’."
   ]
  },
  {
   "cell_type": "code",
   "execution_count": 5,
   "metadata": {},
   "outputs": [],
   "source": [
    "first_title=soup.find('span',class_=\"mw-headline\")\n",
    "headings=soup.find_all('span',class_=\"mw-headline\")# search all types of headlines on page"
   ]
  },
  {
   "cell_type": "code",
   "execution_count": 6,
   "metadata": {},
   "outputs": [
    {
     "data": {
      "text/plain": [
       "[\"From today's featured article\",\n",
       " 'Did you know\\xa0...',\n",
       " 'In the news',\n",
       " 'On this day',\n",
       " \"Today's featured picture\",\n",
       " 'Other areas of Wikipedia',\n",
       " \"Wikipedia's sister projects\",\n",
       " 'Wikipedia languages']"
      ]
     },
     "execution_count": 6,
     "metadata": {},
     "output_type": "execute_result"
    }
   ],
   "source": [
    "#collect all headings in list\n",
    "heading_list=[]\n",
    "for i in headings:\n",
    "    heading_list.append(i.text)\n",
    "heading_list"
   ]
  },
  {
   "cell_type": "markdown",
   "metadata": {},
   "source": [
    "#### 2. Write a python program to display IMDB’s Top rated 100 movies’ data (i.e. Name, IMDB rating, Year of release) and make data frame"
   ]
  },
  {
   "cell_type": "code",
   "execution_count": 7,
   "metadata": {},
   "outputs": [],
   "source": [
    "#importing required libraries\n",
    "from bs4 import BeautifulSoup\n",
    "import requests\n",
    "import pandas as pd"
   ]
  },
  {
   "cell_type": "code",
   "execution_count": 8,
   "metadata": {},
   "outputs": [],
   "source": [
    "content=requests.get(\"https://www.imdb.com/chart/top/?ref_=nv_mv_250\")\n",
    "soup=BeautifulSoup(content.text)\n",
    "mix=soup.find_all('td',class_=\"titleColumn\")\n",
    "mix1=[]\n",
    "j=0\n",
    "for i in mix:\n",
    "    if j>99:\n",
    "        break\n",
    "    else:\n",
    "        mix1.append(i.text.replace('\\n',''))\n",
    "    j+=1"
   ]
  },
  {
   "cell_type": "code",
   "execution_count": 9,
   "metadata": {},
   "outputs": [],
   "source": [
    "Year=[]\n",
    "for i in mix1:\n",
    "    Year.append(i[-5:-1:].strip())\n",
    "name=[]\n",
    "for i in mix1:\n",
    "    name.append(i[:-6:])\n",
    "rating=soup.find_all('td',class_='ratingColumn imdbRating')\n",
    "rstg=[]\n",
    "j=0\n",
    "for i in rating:\n",
    "    if j>99:\n",
    "        break\n",
    "    else:\n",
    "        rstg.append(i.text.replace('\\n',''))\n",
    "    j+=1"
   ]
  },
  {
   "cell_type": "code",
   "execution_count": 10,
   "metadata": {},
   "outputs": [
    {
     "data": {
      "text/html": [
       "<div>\n",
       "<style scoped>\n",
       "    .dataframe tbody tr th:only-of-type {\n",
       "        vertical-align: middle;\n",
       "    }\n",
       "\n",
       "    .dataframe tbody tr th {\n",
       "        vertical-align: top;\n",
       "    }\n",
       "\n",
       "    .dataframe thead th {\n",
       "        text-align: right;\n",
       "    }\n",
       "</style>\n",
       "<table border=\"1\" class=\"dataframe\">\n",
       "  <thead>\n",
       "    <tr style=\"text-align: right;\">\n",
       "      <th></th>\n",
       "      <th>Movie Name</th>\n",
       "      <th>Year</th>\n",
       "      <th>Rating</th>\n",
       "    </tr>\n",
       "  </thead>\n",
       "  <tbody>\n",
       "    <tr>\n",
       "      <td>0</td>\n",
       "      <td>1.      The Shawshank Redemption</td>\n",
       "      <td>1994</td>\n",
       "      <td>9.2</td>\n",
       "    </tr>\n",
       "    <tr>\n",
       "      <td>1</td>\n",
       "      <td>2.      The Godfather</td>\n",
       "      <td>1972</td>\n",
       "      <td>9.1</td>\n",
       "    </tr>\n",
       "    <tr>\n",
       "      <td>2</td>\n",
       "      <td>3.      The Godfather: Part II</td>\n",
       "      <td>1974</td>\n",
       "      <td>9.0</td>\n",
       "    </tr>\n",
       "    <tr>\n",
       "      <td>3</td>\n",
       "      <td>4.      The Dark Knight</td>\n",
       "      <td>2008</td>\n",
       "      <td>9.0</td>\n",
       "    </tr>\n",
       "    <tr>\n",
       "      <td>4</td>\n",
       "      <td>5.      12 Angry Men</td>\n",
       "      <td>1957</td>\n",
       "      <td>8.9</td>\n",
       "    </tr>\n",
       "    <tr>\n",
       "      <td>...</td>\n",
       "      <td>...</td>\n",
       "      <td>...</td>\n",
       "      <td>...</td>\n",
       "    </tr>\n",
       "    <tr>\n",
       "      <td>95</td>\n",
       "      <td>96.      Jagten</td>\n",
       "      <td>2012</td>\n",
       "      <td>8.3</td>\n",
       "    </tr>\n",
       "    <tr>\n",
       "      <td>96</td>\n",
       "      <td>97.      Idi i smotri</td>\n",
       "      <td>1985</td>\n",
       "      <td>8.3</td>\n",
       "    </tr>\n",
       "    <tr>\n",
       "      <td>97</td>\n",
       "      <td>98.      Singin' in the Rain</td>\n",
       "      <td>1952</td>\n",
       "      <td>8.3</td>\n",
       "    </tr>\n",
       "    <tr>\n",
       "      <td>98</td>\n",
       "      <td>99.      North by Northwest</td>\n",
       "      <td>1959</td>\n",
       "      <td>8.3</td>\n",
       "    </tr>\n",
       "    <tr>\n",
       "      <td>99</td>\n",
       "      <td>100.      Eternal Sunshine of the Spotle...</td>\n",
       "      <td>2004</td>\n",
       "      <td>8.3</td>\n",
       "    </tr>\n",
       "  </tbody>\n",
       "</table>\n",
       "<p>100 rows × 3 columns</p>\n",
       "</div>"
      ],
      "text/plain": [
       "                                           Movie Name  Year Rating\n",
       "0                    1.      The Shawshank Redemption  1994    9.2\n",
       "1                               2.      The Godfather  1972    9.1\n",
       "2                      3.      The Godfather: Part II  1974    9.0\n",
       "3                             4.      The Dark Knight  2008    9.0\n",
       "4                                5.      12 Angry Men  1957    8.9\n",
       "..                                                ...   ...    ...\n",
       "95                                    96.      Jagten  2012    8.3\n",
       "96                              97.      Idi i smotri  1985    8.3\n",
       "97                       98.      Singin' in the Rain  1952    8.3\n",
       "98                        99.      North by Northwest  1959    8.3\n",
       "99        100.      Eternal Sunshine of the Spotle...  2004    8.3\n",
       "\n",
       "[100 rows x 3 columns]"
      ]
     },
     "execution_count": 10,
     "metadata": {},
     "output_type": "execute_result"
    }
   ],
   "source": [
    "#Creating a data frame\n",
    "df=pd.DataFrame()\n",
    "df['Movie Name']=name\n",
    "df['Year']=Year\n",
    "df['Rating']=rstg\n",
    "df"
   ]
  },
  {
   "cell_type": "markdown",
   "metadata": {},
   "source": [
    "#### 3. Write a python program to display IMDB’s Top rated 100 Indian movies’ data (i.e. Name, IMDB rating, Year of release) and make data frame."
   ]
  },
  {
   "cell_type": "code",
   "execution_count": 11,
   "metadata": {},
   "outputs": [],
   "source": [
    "content=requests.get(\"https://www.imdb.com/india/top-rated-indian-movies/?pf_rd_m=A2FGELUUNOQJNL&pf_rd_p=2e9dfa9b-3e4d-4d39-acd2-8af11f252a59&pf_rd_r=JF1X5WCBEWDS4FFYY20Y&pf_rd_s=right-5&pf_rd_t=15506&pf_rd_i=top&ref_=chttp_india_tr_rhs_1\")\n",
    "soup=BeautifulSoup(content.text)\n",
    "mix=soup.find_all('td',class_=\"titleColumn\")\n",
    "mix1=[]\n",
    "j=0\n",
    "for i in mix:\n",
    "    if j>99:\n",
    "        break\n",
    "    else:\n",
    "        mix1.append(i.text.replace('\\n',''))\n",
    "    j+=1"
   ]
  },
  {
   "cell_type": "code",
   "execution_count": 12,
   "metadata": {},
   "outputs": [],
   "source": [
    "Year=[]\n",
    "for i in mix1:\n",
    "    Year.append(i[-5:-1:].strip())\n",
    "name=[]\n",
    "for i in mix1:\n",
    "    name.append(i[:-6:])\n",
    "rating=soup.find_all('td',class_='ratingColumn imdbRating')\n",
    "rstg=[]\n",
    "j=0\n",
    "for i in rating:\n",
    "    if j>99:\n",
    "        break\n",
    "    else:\n",
    "        rstg.append(i.text.replace('\\n',''))\n",
    "    j+=1"
   ]
  },
  {
   "cell_type": "code",
   "execution_count": 13,
   "metadata": {},
   "outputs": [
    {
     "data": {
      "text/html": [
       "<div>\n",
       "<style scoped>\n",
       "    .dataframe tbody tr th:only-of-type {\n",
       "        vertical-align: middle;\n",
       "    }\n",
       "\n",
       "    .dataframe tbody tr th {\n",
       "        vertical-align: top;\n",
       "    }\n",
       "\n",
       "    .dataframe thead th {\n",
       "        text-align: right;\n",
       "    }\n",
       "</style>\n",
       "<table border=\"1\" class=\"dataframe\">\n",
       "  <thead>\n",
       "    <tr style=\"text-align: right;\">\n",
       "      <th></th>\n",
       "      <th>Movie Name</th>\n",
       "      <th>Year</th>\n",
       "      <th>Rating</th>\n",
       "    </tr>\n",
       "  </thead>\n",
       "  <tbody>\n",
       "    <tr>\n",
       "      <td>0</td>\n",
       "      <td>1.      Nayakan</td>\n",
       "      <td>1987</td>\n",
       "      <td>8.5</td>\n",
       "    </tr>\n",
       "    <tr>\n",
       "      <td>1</td>\n",
       "      <td>2.      Pather Panchali</td>\n",
       "      <td>1955</td>\n",
       "      <td>8.5</td>\n",
       "    </tr>\n",
       "    <tr>\n",
       "      <td>2</td>\n",
       "      <td>3.      Pariyerum Perumal</td>\n",
       "      <td>2018</td>\n",
       "      <td>8.5</td>\n",
       "    </tr>\n",
       "    <tr>\n",
       "      <td>3</td>\n",
       "      <td>4.      Anbe Sivam</td>\n",
       "      <td>2003</td>\n",
       "      <td>8.5</td>\n",
       "    </tr>\n",
       "    <tr>\n",
       "      <td>4</td>\n",
       "      <td>5.      Golmaal</td>\n",
       "      <td>1979</td>\n",
       "      <td>8.5</td>\n",
       "    </tr>\n",
       "    <tr>\n",
       "      <td>...</td>\n",
       "      <td>...</td>\n",
       "      <td>...</td>\n",
       "      <td>...</td>\n",
       "    </tr>\n",
       "    <tr>\n",
       "      <td>95</td>\n",
       "      <td>96.      Andaz Apna Apna</td>\n",
       "      <td>1994</td>\n",
       "      <td>8.1</td>\n",
       "    </tr>\n",
       "    <tr>\n",
       "      <td>96</td>\n",
       "      <td>97.      Virumandi</td>\n",
       "      <td>2004</td>\n",
       "      <td>8.1</td>\n",
       "    </tr>\n",
       "    <tr>\n",
       "      <td>97</td>\n",
       "      <td>98.      Uri: The Surgical Strike</td>\n",
       "      <td>2018</td>\n",
       "      <td>8.1</td>\n",
       "    </tr>\n",
       "    <tr>\n",
       "      <td>98</td>\n",
       "      <td>99.      PK</td>\n",
       "      <td>2014</td>\n",
       "      <td>8.1</td>\n",
       "    </tr>\n",
       "    <tr>\n",
       "      <td>99</td>\n",
       "      <td>100.      Lucia</td>\n",
       "      <td>2013</td>\n",
       "      <td>8.1</td>\n",
       "    </tr>\n",
       "  </tbody>\n",
       "</table>\n",
       "<p>100 rows × 3 columns</p>\n",
       "</div>"
      ],
      "text/plain": [
       "                                 Movie Name  Year Rating\n",
       "0                           1.      Nayakan  1987    8.5\n",
       "1                   2.      Pather Panchali  1955    8.5\n",
       "2                 3.      Pariyerum Perumal  2018    8.5\n",
       "3                        4.      Anbe Sivam  2003    8.5\n",
       "4                           5.      Golmaal  1979    8.5\n",
       "..                                      ...   ...    ...\n",
       "95                 96.      Andaz Apna Apna  1994    8.1\n",
       "96                       97.      Virumandi  2004    8.1\n",
       "97        98.      Uri: The Surgical Strike  2018    8.1\n",
       "98                              99.      PK  2014    8.1\n",
       "99                          100.      Lucia  2013    8.1\n",
       "\n",
       "[100 rows x 3 columns]"
      ]
     },
     "execution_count": 13,
     "metadata": {},
     "output_type": "execute_result"
    }
   ],
   "source": [
    "#Creating a data frame\n",
    "df=pd.DataFrame()\n",
    "df['Movie Name']=name\n",
    "df['Year']=Year\n",
    "df['Rating']=rstg\n",
    "df"
   ]
  },
  {
   "cell_type": "markdown",
   "metadata": {},
   "source": [
    "#### 4. Write a python program to scrap book name, author name, genre and book review of any 5 books from\n",
    "‘www.bookpage.com’"
   ]
  },
  {
   "cell_type": "code",
   "execution_count": 14,
   "metadata": {},
   "outputs": [
    {
     "data": {
      "text/plain": [
       "<Response [200]>"
      ]
     },
     "execution_count": 14,
     "metadata": {},
     "output_type": "execute_result"
    }
   ],
   "source": [
    "page=requests.get(\"https://bookpage.com/reviews?book_genre=fiction&page=1\")\n",
    "page"
   ]
  },
  {
   "cell_type": "code",
   "execution_count": 15,
   "metadata": {},
   "outputs": [],
   "source": [
    "soup=BeautifulSoup(page.content)\n",
    "#soup"
   ]
  },
  {
   "cell_type": "code",
   "execution_count": 16,
   "metadata": {},
   "outputs": [],
   "source": [
    "Book_title=soup.find_all('h4',class_=\"italic\")\n",
    "#Book_title"
   ]
  },
  {
   "cell_type": "code",
   "execution_count": 17,
   "metadata": {},
   "outputs": [],
   "source": [
    "Book_Name=[]\n",
    "for j in Book_title:\n",
    "    Book_Name.append(j.text.replace('\\n',''))"
   ]
  },
  {
   "cell_type": "code",
   "execution_count": 18,
   "metadata": {},
   "outputs": [
    {
     "data": {
      "text/plain": [
       "['Filthy Animals',\n",
       " 'The Rose Code',\n",
       " ' ★ The Sweetness of Water',\n",
       " 'The Killing Hills',\n",
       " 'Love and Fury',\n",
       " 'The Missing Treasures of Amy Ashton',\n",
       " 'Everyone Knows Your Mother Is a Witch',\n",
       " ' ★ The Hidden Palace',\n",
       " 'One Two Three',\n",
       " ' ★ Walking on Cowrie Shells']"
      ]
     },
     "execution_count": 18,
     "metadata": {},
     "output_type": "execute_result"
    }
   ],
   "source": [
    "Book_Name"
   ]
  },
  {
   "cell_type": "code",
   "execution_count": 19,
   "metadata": {},
   "outputs": [],
   "source": [
    "Book_author=soup.find_all('p',class_=\"sans bold\")"
   ]
  },
  {
   "cell_type": "code",
   "execution_count": 20,
   "metadata": {},
   "outputs": [],
   "source": [
    "Author_Name=[]\n",
    "for i in Book_author:\n",
    "    Author_Name.append(i.text.replace('\\n',''))"
   ]
  },
  {
   "cell_type": "code",
   "execution_count": 21,
   "metadata": {},
   "outputs": [
    {
     "data": {
      "text/plain": [
       "['Brandon Taylor',\n",
       " 'Kate Quinn, Saskia Maarleveld',\n",
       " 'Nathan Harris',\n",
       " 'Chris Offutt',\n",
       " 'Samantha Silva',\n",
       " 'Eleanor Ray',\n",
       " 'Rivka Galchen',\n",
       " 'Helene Wecker',\n",
       " 'Laurie Frankel',\n",
       " 'Nana Nkweti']"
      ]
     },
     "execution_count": 21,
     "metadata": {},
     "output_type": "execute_result"
    }
   ],
   "source": [
    "Author_Name"
   ]
  },
  {
   "cell_type": "code",
   "execution_count": 22,
   "metadata": {},
   "outputs": [],
   "source": [
    "Excerpt=soup.find_all('p',class_=\"excerpt\")"
   ]
  },
  {
   "cell_type": "code",
   "execution_count": 23,
   "metadata": {},
   "outputs": [],
   "source": [
    "Excerpt_B=[]\n",
    "for i in Excerpt:\n",
    "    Excerpt_B.append(i.text.replace('\\n',''))"
   ]
  },
  {
   "cell_type": "code",
   "execution_count": 24,
   "metadata": {
    "scrolled": true
   },
   "outputs": [
    {
     "name": "stdout",
     "output_type": "stream",
     "text": [
      "10 10 10\n"
     ]
    }
   ],
   "source": [
    "print(len(Book_Name),len(Author_Name),len(Excerpt_B))"
   ]
  },
  {
   "cell_type": "code",
   "execution_count": 108,
   "metadata": {},
   "outputs": [],
   "source": [
    "#Creating a data frame\n",
    "store=pd.DataFrame()\n",
    "store['Book Name']=Book_Name\n",
    "store['Author_Name']=Author_Name\n",
    "store['Excerpt_B']=Excerpt_B"
   ]
  },
  {
   "cell_type": "code",
   "execution_count": 26,
   "metadata": {},
   "outputs": [
    {
     "data": {
      "text/html": [
       "<div>\n",
       "<style scoped>\n",
       "    .dataframe tbody tr th:only-of-type {\n",
       "        vertical-align: middle;\n",
       "    }\n",
       "\n",
       "    .dataframe tbody tr th {\n",
       "        vertical-align: top;\n",
       "    }\n",
       "\n",
       "    .dataframe thead th {\n",
       "        text-align: right;\n",
       "    }\n",
       "</style>\n",
       "<table border=\"1\" class=\"dataframe\">\n",
       "  <thead>\n",
       "    <tr style=\"text-align: right;\">\n",
       "      <th></th>\n",
       "      <th>Book Name</th>\n",
       "      <th>Author_Name</th>\n",
       "      <th>Excerpt_B</th>\n",
       "    </tr>\n",
       "  </thead>\n",
       "  <tbody>\n",
       "    <tr>\n",
       "      <td>0</td>\n",
       "      <td>Filthy Animals</td>\n",
       "      <td>Brandon Taylor</td>\n",
       "      <td>In Brandon Taylor’s short story collection, se...</td>\n",
       "    </tr>\n",
       "    <tr>\n",
       "      <td>1</td>\n",
       "      <td>The Rose Code</td>\n",
       "      <td>Kate Quinn, Saskia Maarleveld</td>\n",
       "      <td>The Rose Code is a terrific story, brilliantly...</td>\n",
       "    </tr>\n",
       "    <tr>\n",
       "      <td>2</td>\n",
       "      <td>★ The Sweetness of Water</td>\n",
       "      <td>Nathan Harris</td>\n",
       "      <td>Nathan Harris’ Civil War-set debut novel celeb...</td>\n",
       "    </tr>\n",
       "    <tr>\n",
       "      <td>3</td>\n",
       "      <td>The Killing Hills</td>\n",
       "      <td>Chris Offutt</td>\n",
       "      <td>A rural noir with attitude to spare, The Killi...</td>\n",
       "    </tr>\n",
       "    <tr>\n",
       "      <td>4</td>\n",
       "      <td>Love and Fury</td>\n",
       "      <td>Samantha Silva</td>\n",
       "      <td>Samantha Silva’s attention to period detail cr...</td>\n",
       "    </tr>\n",
       "    <tr>\n",
       "      <td>5</td>\n",
       "      <td>The Missing Treasures of Amy Ashton</td>\n",
       "      <td>Eleanor Ray</td>\n",
       "      <td>Eleanor Ray’s debut novel about a hoarder poke...</td>\n",
       "    </tr>\n",
       "    <tr>\n",
       "      <td>6</td>\n",
       "      <td>Everyone Knows Your Mother Is a Witch</td>\n",
       "      <td>Rivka Galchen</td>\n",
       "      <td>Rivka Galchen brings a surprising sense of hum...</td>\n",
       "    </tr>\n",
       "    <tr>\n",
       "      <td>7</td>\n",
       "      <td>★ The Hidden Palace</td>\n",
       "      <td>Helene Wecker</td>\n",
       "      <td>Fans have waited eight years for this sequel, ...</td>\n",
       "    </tr>\n",
       "    <tr>\n",
       "      <td>8</td>\n",
       "      <td>One Two Three</td>\n",
       "      <td>Laurie Frankel</td>\n",
       "      <td>It’s rare when a book is decidedly grim—dire, ...</td>\n",
       "    </tr>\n",
       "    <tr>\n",
       "      <td>9</td>\n",
       "      <td>★ Walking on Cowrie Shells</td>\n",
       "      <td>Nana Nkweti</td>\n",
       "      <td>With the ease of a master, Nana Nkweti shifts ...</td>\n",
       "    </tr>\n",
       "  </tbody>\n",
       "</table>\n",
       "</div>"
      ],
      "text/plain": [
       "                               Book Name                    Author_Name  \\\n",
       "0                         Filthy Animals                 Brandon Taylor   \n",
       "1                          The Rose Code  Kate Quinn, Saskia Maarleveld   \n",
       "2               ★ The Sweetness of Water                  Nathan Harris   \n",
       "3                      The Killing Hills                   Chris Offutt   \n",
       "4                          Love and Fury                 Samantha Silva   \n",
       "5    The Missing Treasures of Amy Ashton                    Eleanor Ray   \n",
       "6  Everyone Knows Your Mother Is a Witch                  Rivka Galchen   \n",
       "7                    ★ The Hidden Palace                  Helene Wecker   \n",
       "8                          One Two Three                 Laurie Frankel   \n",
       "9             ★ Walking on Cowrie Shells                    Nana Nkweti   \n",
       "\n",
       "                                           Excerpt_B  \n",
       "0  In Brandon Taylor’s short story collection, se...  \n",
       "1  The Rose Code is a terrific story, brilliantly...  \n",
       "2  Nathan Harris’ Civil War-set debut novel celeb...  \n",
       "3  A rural noir with attitude to spare, The Killi...  \n",
       "4  Samantha Silva’s attention to period detail cr...  \n",
       "5  Eleanor Ray’s debut novel about a hoarder poke...  \n",
       "6  Rivka Galchen brings a surprising sense of hum...  \n",
       "7  Fans have waited eight years for this sequel, ...  \n",
       "8  It’s rare when a book is decidedly grim—dire, ...  \n",
       "9  With the ease of a master, Nana Nkweti shifts ...  "
      ]
     },
     "execution_count": 26,
     "metadata": {},
     "output_type": "execute_result"
    }
   ],
   "source": [
    "store"
   ]
  },
  {
   "cell_type": "markdown",
   "metadata": {},
   "source": [
    "#### 5. Write a python program to scrape cricket rankings from ‘www.icc-cricket.com’. You have to scrape:\n",
    "i) Top 10 ODI teams in men’s cricket along with the records for matches, points and rating.\n",
    "ii) Top 10 ODI Batsmen in men along with the records of their team and rating.\n",
    "iii) Top 10 ODI bowlers along with the records of their team and rating."
   ]
  },
  {
   "cell_type": "markdown",
   "metadata": {},
   "source": [
    "##### i) Top 10 ODI teams in men’s cricket along with the records for matches, points and rating."
   ]
  },
  {
   "cell_type": "code",
   "execution_count": 27,
   "metadata": {},
   "outputs": [
    {
     "data": {
      "text/plain": [
       "<Response [200]>"
      ]
     },
     "execution_count": 27,
     "metadata": {},
     "output_type": "execute_result"
    }
   ],
   "source": [
    "page=requests.get(\"https://www.icc-cricket.com/rankings/mens/team-rankings/odi\")\n",
    "page"
   ]
  },
  {
   "cell_type": "code",
   "execution_count": 28,
   "metadata": {},
   "outputs": [],
   "source": [
    "soup=BeautifulSoup(page.content)\n",
    "Team_name1=soup.find_all('span',class_='u-hide-phablet')"
   ]
  },
  {
   "cell_type": "code",
   "execution_count": 29,
   "metadata": {},
   "outputs": [],
   "source": [
    "Team_name=[]\n",
    "j=0\n",
    "for i in Team_name1:\n",
    "        Team_name.append(i.text)\n",
    "        j+=1\n",
    "        if j>9:\n",
    "            break"
   ]
  },
  {
   "cell_type": "code",
   "execution_count": 30,
   "metadata": {},
   "outputs": [],
   "source": [
    "Team_matches1=soup.find_all('td',class_=\"rankings-block__banner--matches\")\n",
    "Team_matches=[]\n",
    "for i in Team_matches1:\n",
    "    Team_matches.append(i.text)"
   ]
  },
  {
   "cell_type": "code",
   "execution_count": 31,
   "metadata": {},
   "outputs": [],
   "source": [
    "Team_points1=soup.find_all('td',class_=\"rankings-block__banner--points\")\n",
    "Team_points=[]\n",
    "for i in Team_points1:\n",
    "    Team_points.append(i.text)"
   ]
  },
  {
   "cell_type": "code",
   "execution_count": 32,
   "metadata": {},
   "outputs": [],
   "source": [
    "Team_m_and_p1=soup.find_all('td',class_=\"table-body__cell u-center-text\")\n",
    "j==2\n",
    "for i in Team_m_and_p1:\n",
    "    if j%2==0:\n",
    "        if j>26:\n",
    "            continue\n",
    "        else:\n",
    "            Team_matches.append(i.text)            \n",
    "    else:\n",
    "        if j>36:\n",
    "            continue\n",
    "        else:\n",
    "            Team_points.append(i.text)            \n",
    "    j+=1"
   ]
  },
  {
   "cell_type": "code",
   "execution_count": 33,
   "metadata": {},
   "outputs": [],
   "source": [
    "Team_Rating1=soup.find_all('td',class_=\"rankings-block__banner--rating u-text-right\")\n",
    "Team_Rating=[]\n",
    "for i in Team_Rating1:\n",
    "    Team_Rating.append(i.text.replace('\\n','').replace(' ',''))"
   ]
  },
  {
   "cell_type": "code",
   "execution_count": 34,
   "metadata": {},
   "outputs": [],
   "source": [
    "Team_Rating1=soup.find_all('td',class_=\"table-body__cell u-text-right rating\")"
   ]
  },
  {
   "cell_type": "code",
   "execution_count": 35,
   "metadata": {},
   "outputs": [],
   "source": [
    "j=0\n",
    "for i in Team_Rating1:\n",
    "    if j<9:\n",
    "        Team_Rating.append(i.text.replace('\\n',''))\n",
    "    else:\n",
    "        break\n",
    "    j+=1"
   ]
  },
  {
   "cell_type": "code",
   "execution_count": 36,
   "metadata": {},
   "outputs": [],
   "source": [
    "#Creating a data frame\n",
    "cricket=pd.DataFrame()\n",
    "cricket['Team Name']=Team_name\n",
    "cricket['Team Matches']=Team_matches\n",
    "cricket['Team Point']=Team_points\n",
    "cricket['Team Rating']=Team_Rating"
   ]
  },
  {
   "cell_type": "code",
   "execution_count": 109,
   "metadata": {},
   "outputs": [
    {
     "name": "stdout",
     "output_type": "stream",
     "text": [
      "================================ ODI Men Teams ================================\n",
      "================================               ================================\n"
     ]
    },
    {
     "data": {
      "text/html": [
       "<div>\n",
       "<style scoped>\n",
       "    .dataframe tbody tr th:only-of-type {\n",
       "        vertical-align: middle;\n",
       "    }\n",
       "\n",
       "    .dataframe tbody tr th {\n",
       "        vertical-align: top;\n",
       "    }\n",
       "\n",
       "    .dataframe thead th {\n",
       "        text-align: right;\n",
       "    }\n",
       "</style>\n",
       "<table border=\"1\" class=\"dataframe\">\n",
       "  <thead>\n",
       "    <tr style=\"text-align: right;\">\n",
       "      <th></th>\n",
       "      <th>Team Name</th>\n",
       "      <th>Team Matches</th>\n",
       "      <th>Team Point</th>\n",
       "      <th>Team Rating</th>\n",
       "    </tr>\n",
       "  </thead>\n",
       "  <tbody>\n",
       "    <tr>\n",
       "      <td>0</td>\n",
       "      <td>Australia</td>\n",
       "      <td>18</td>\n",
       "      <td>2,955</td>\n",
       "      <td>164</td>\n",
       "    </tr>\n",
       "    <tr>\n",
       "      <td>1</td>\n",
       "      <td>South Africa</td>\n",
       "      <td>24</td>\n",
       "      <td>2,828</td>\n",
       "      <td>118</td>\n",
       "    </tr>\n",
       "    <tr>\n",
       "      <td>2</td>\n",
       "      <td>England</td>\n",
       "      <td>17</td>\n",
       "      <td>1,993</td>\n",
       "      <td>117</td>\n",
       "    </tr>\n",
       "    <tr>\n",
       "      <td>3</td>\n",
       "      <td>India</td>\n",
       "      <td>20</td>\n",
       "      <td>2,226</td>\n",
       "      <td>111</td>\n",
       "    </tr>\n",
       "    <tr>\n",
       "      <td>4</td>\n",
       "      <td>New Zealand</td>\n",
       "      <td>21</td>\n",
       "      <td>1,947</td>\n",
       "      <td>93</td>\n",
       "    </tr>\n",
       "    <tr>\n",
       "      <td>5</td>\n",
       "      <td>West Indies</td>\n",
       "      <td>12</td>\n",
       "      <td>1,025</td>\n",
       "      <td>85</td>\n",
       "    </tr>\n",
       "    <tr>\n",
       "      <td>6</td>\n",
       "      <td>Pakistan</td>\n",
       "      <td>15</td>\n",
       "      <td>1,101</td>\n",
       "      <td>73</td>\n",
       "    </tr>\n",
       "    <tr>\n",
       "      <td>7</td>\n",
       "      <td>Bangladesh</td>\n",
       "      <td>5</td>\n",
       "      <td>306</td>\n",
       "      <td>61</td>\n",
       "    </tr>\n",
       "    <tr>\n",
       "      <td>8</td>\n",
       "      <td>Sri Lanka</td>\n",
       "      <td>11</td>\n",
       "      <td>519</td>\n",
       "      <td>47</td>\n",
       "    </tr>\n",
       "    <tr>\n",
       "      <td>9</td>\n",
       "      <td>Ireland</td>\n",
       "      <td>2</td>\n",
       "      <td>25</td>\n",
       "      <td>13</td>\n",
       "    </tr>\n",
       "  </tbody>\n",
       "</table>\n",
       "</div>"
      ],
      "text/plain": [
       "      Team Name Team Matches Team Point Team Rating\n",
       "0     Australia           18      2,955         164\n",
       "1  South Africa           24      2,828         118\n",
       "2       England           17      1,993         117\n",
       "3         India           20      2,226         111\n",
       "4   New Zealand           21      1,947          93\n",
       "5   West Indies           12      1,025          85\n",
       "6      Pakistan           15      1,101          73\n",
       "7    Bangladesh            5        306          61\n",
       "8     Sri Lanka           11        519          47\n",
       "9       Ireland            2         25          13"
      ]
     },
     "execution_count": 109,
     "metadata": {},
     "output_type": "execute_result"
    }
   ],
   "source": [
    "print(\"=\"*32,'ODI Men Teams',\"=\"*32)\n",
    "print(\"=\"*32,'             ',\"=\"*32)\n",
    "cricket"
   ]
  },
  {
   "cell_type": "markdown",
   "metadata": {},
   "source": [
    "##### ii) Top 10 ODI Batsmen in men along with the records of their team and rating."
   ]
  },
  {
   "cell_type": "code",
   "execution_count": 38,
   "metadata": {},
   "outputs": [],
   "source": [
    "#importing required libraries\n",
    "from bs4 import BeautifulSoup\n",
    "import requests\n",
    "import pandas as pd"
   ]
  },
  {
   "cell_type": "code",
   "execution_count": 39,
   "metadata": {},
   "outputs": [],
   "source": [
    "page=requests.get(\"https://www.icc-cricket.com/rankings/mens/player-rankings/odi/batting\")\n",
    "page\n",
    "soup=BeautifulSoup(page.content)"
   ]
  },
  {
   "cell_type": "code",
   "execution_count": 40,
   "metadata": {},
   "outputs": [],
   "source": [
    "Pl=[]\n",
    "Batsman1=soup.find_all('div',class_='rankings-block__banner--name-large')\n",
    "for i in Batsman1:\n",
    "    Pl.append(i.text)\n",
    "Batsman1=soup.find_all('td',class_='table-body__cell rankings-table__name name')\n",
    "j=0\n",
    "for i in Batsman1:\n",
    "    if j<9:\n",
    "        Pl.append(i.text.replace('\\n',''))\n",
    "    else:\n",
    "        break\n",
    "    j+=1"
   ]
  },
  {
   "cell_type": "code",
   "execution_count": 41,
   "metadata": {},
   "outputs": [],
   "source": [
    "Team1=soup.find_all('div',class_='rankings-block__banner--nationality')\n",
    "Team=[]\n",
    "for i in Team1:\n",
    "    Team.append(i.text.replace('\\n',''))\n",
    "Team1=soup.find_all('span',class_='table-body__logo-text')\n",
    "j=0\n",
    "for i in Team1:\n",
    "    if j<9:\n",
    "        Team.append(i.text)\n",
    "    else:\n",
    "        break\n",
    "    j+=1"
   ]
  },
  {
   "cell_type": "code",
   "execution_count": 42,
   "metadata": {},
   "outputs": [],
   "source": [
    "Rating1=soup.find_all('div',class_=\"rankings-block__banner--rating\")\n",
    "Rating=[]\n",
    "for i in Rating1:\n",
    "    Rating.append(i.text)\n",
    "Rating1=soup.find_all('td',class_=\"table-body__cell rating\")\n",
    "j=0\n",
    "for i in Rating1:\n",
    "    if j<9:\n",
    "        Rating.append(i.text)\n",
    "    else:\n",
    "        break\n",
    "    j+=1"
   ]
  },
  {
   "cell_type": "code",
   "execution_count": 43,
   "metadata": {},
   "outputs": [
    {
     "name": "stdout",
     "output_type": "stream",
     "text": [
      "================================ Batsman ================================\n",
      "================================         ================================\n"
     ]
    },
    {
     "data": {
      "text/html": [
       "<div>\n",
       "<style scoped>\n",
       "    .dataframe tbody tr th:only-of-type {\n",
       "        vertical-align: middle;\n",
       "    }\n",
       "\n",
       "    .dataframe tbody tr th {\n",
       "        vertical-align: top;\n",
       "    }\n",
       "\n",
       "    .dataframe thead th {\n",
       "        text-align: right;\n",
       "    }\n",
       "</style>\n",
       "<table border=\"1\" class=\"dataframe\">\n",
       "  <thead>\n",
       "    <tr style=\"text-align: right;\">\n",
       "      <th></th>\n",
       "      <th>Player</th>\n",
       "      <th>Team</th>\n",
       "      <th>Rating</th>\n",
       "    </tr>\n",
       "  </thead>\n",
       "  <tbody>\n",
       "    <tr>\n",
       "      <td>0</td>\n",
       "      <td>Babar Azam</td>\n",
       "      <td>PAK</td>\n",
       "      <td>865</td>\n",
       "    </tr>\n",
       "    <tr>\n",
       "      <td>1</td>\n",
       "      <td>Virat Kohli</td>\n",
       "      <td>IND</td>\n",
       "      <td>857</td>\n",
       "    </tr>\n",
       "    <tr>\n",
       "      <td>2</td>\n",
       "      <td>Rohit Sharma</td>\n",
       "      <td>IND</td>\n",
       "      <td>825</td>\n",
       "    </tr>\n",
       "    <tr>\n",
       "      <td>3</td>\n",
       "      <td>Ross Taylor</td>\n",
       "      <td>NZ</td>\n",
       "      <td>801</td>\n",
       "    </tr>\n",
       "    <tr>\n",
       "      <td>4</td>\n",
       "      <td>Aaron Finch</td>\n",
       "      <td>AUS</td>\n",
       "      <td>791</td>\n",
       "    </tr>\n",
       "    <tr>\n",
       "      <td>5</td>\n",
       "      <td>Jonny Bairstow</td>\n",
       "      <td>ENG</td>\n",
       "      <td>785</td>\n",
       "    </tr>\n",
       "    <tr>\n",
       "      <td>6</td>\n",
       "      <td>Fakhar Zaman</td>\n",
       "      <td>PAK</td>\n",
       "      <td>778</td>\n",
       "    </tr>\n",
       "    <tr>\n",
       "      <td>7</td>\n",
       "      <td>Francois du Plessis</td>\n",
       "      <td>SA</td>\n",
       "      <td>778</td>\n",
       "    </tr>\n",
       "    <tr>\n",
       "      <td>8</td>\n",
       "      <td>David Warner</td>\n",
       "      <td>AUS</td>\n",
       "      <td>773</td>\n",
       "    </tr>\n",
       "    <tr>\n",
       "      <td>9</td>\n",
       "      <td>Shai Hope</td>\n",
       "      <td>WI</td>\n",
       "      <td>773</td>\n",
       "    </tr>\n",
       "  </tbody>\n",
       "</table>\n",
       "</div>"
      ],
      "text/plain": [
       "                Player                     Team Rating\n",
       "0           Babar Azam  PAK                        865\n",
       "1          Virat Kohli                      IND    857\n",
       "2         Rohit Sharma                      IND    825\n",
       "3          Ross Taylor                       NZ    801\n",
       "4          Aaron Finch                      AUS    791\n",
       "5       Jonny Bairstow                      ENG    785\n",
       "6         Fakhar Zaman                      PAK    778\n",
       "7  Francois du Plessis                       SA    778\n",
       "8         David Warner                      AUS    773\n",
       "9            Shai Hope                       WI    773"
      ]
     },
     "execution_count": 43,
     "metadata": {},
     "output_type": "execute_result"
    }
   ],
   "source": [
    "#Creating a data frame\n",
    "Batsman=pd.DataFrame()\n",
    "Batsman['Player']=Pl\n",
    "Batsman['Team']=Team\n",
    "Batsman['Rating']=Rating\n",
    "print(\"=\"*32,'Batsman',\"=\"*32)\n",
    "print(\"=\"*32,'       ',\"=\"*32)\n",
    "Batsman"
   ]
  },
  {
   "cell_type": "markdown",
   "metadata": {},
   "source": [
    "##### iii) Top 10 ODI bowlers along with the records of their team and rating."
   ]
  },
  {
   "cell_type": "code",
   "execution_count": 44,
   "metadata": {},
   "outputs": [],
   "source": [
    "page=requests.get(\"https://www.icc-cricket.com/rankings/mens/player-rankings/odi/bowling\")\n",
    "page\n",
    "soup=BeautifulSoup(page.content)"
   ]
  },
  {
   "cell_type": "code",
   "execution_count": 45,
   "metadata": {},
   "outputs": [],
   "source": [
    "Ply=[]\n",
    "Bowler1=soup.find_all('div',class_='rankings-block__banner--name-large')\n",
    "for i in Bowler1:\n",
    "    Ply.append(i.text)\n",
    "Bowler1=soup.find_all('td',class_='table-body__cell rankings-table__name name')\n",
    "j=0\n",
    "for i in Bowler1:\n",
    "    if j<9:\n",
    "        Ply.append(i.text.replace('\\n',''))\n",
    "    else:\n",
    "        break\n",
    "    j+=1    "
   ]
  },
  {
   "cell_type": "code",
   "execution_count": 46,
   "metadata": {},
   "outputs": [],
   "source": [
    "Team1=soup.find_all('div',class_='rankings-block__banner--nationality')\n",
    "Team=[]\n",
    "for i in Team1:\n",
    "    Team.append(i.text.replace('\\n',''))\n",
    "Team1=soup.find_all('span',class_='table-body__logo-text')\n",
    "j=0\n",
    "for i in Team1:\n",
    "    if j<9:\n",
    "        Team.append(i.text)\n",
    "    else:\n",
    "        break\n",
    "    j+=1"
   ]
  },
  {
   "cell_type": "code",
   "execution_count": 47,
   "metadata": {},
   "outputs": [
    {
     "data": {
      "text/plain": [
       "['737', '713', '708', '691', '690', '666', '665', '660', '646', '645']"
      ]
     },
     "execution_count": 47,
     "metadata": {},
     "output_type": "execute_result"
    }
   ],
   "source": [
    "Rating1=soup.find_all('div',class_=\"rankings-block__banner--rating\")\n",
    "Rating=[]\n",
    "for i in Rating1:\n",
    "    Rating.append(i.text)\n",
    "Rating1=soup.find_all('td',class_=\"table-body__cell rating\")\n",
    "j=0\n",
    "for i in Rating1:\n",
    "    if j<9:\n",
    "        Rating.append(i.text)\n",
    "    else:\n",
    "        break\n",
    "    j+=1\n",
    "Rating"
   ]
  },
  {
   "cell_type": "code",
   "execution_count": 110,
   "metadata": {},
   "outputs": [
    {
     "name": "stdout",
     "output_type": "stream",
     "text": [
      "================================ BOWLERS ================================\n",
      "================================         ================================\n"
     ]
    },
    {
     "data": {
      "text/html": [
       "<div>\n",
       "<style scoped>\n",
       "    .dataframe tbody tr th:only-of-type {\n",
       "        vertical-align: middle;\n",
       "    }\n",
       "\n",
       "    .dataframe tbody tr th {\n",
       "        vertical-align: top;\n",
       "    }\n",
       "\n",
       "    .dataframe thead th {\n",
       "        text-align: right;\n",
       "    }\n",
       "</style>\n",
       "<table border=\"1\" class=\"dataframe\">\n",
       "  <thead>\n",
       "    <tr style=\"text-align: right;\">\n",
       "      <th></th>\n",
       "      <th>Player</th>\n",
       "      <th>Team</th>\n",
       "      <th>Rating</th>\n",
       "    </tr>\n",
       "  </thead>\n",
       "  <tbody>\n",
       "    <tr>\n",
       "      <td>0</td>\n",
       "      <td>Trent Boult</td>\n",
       "      <td>SA</td>\n",
       "      <td>418</td>\n",
       "    </tr>\n",
       "    <tr>\n",
       "      <td>1</td>\n",
       "      <td>Mehedi Hasan</td>\n",
       "      <td>AUS</td>\n",
       "      <td>418</td>\n",
       "    </tr>\n",
       "    <tr>\n",
       "      <td>2</td>\n",
       "      <td>Mujeeb Ur Rahman</td>\n",
       "      <td>WI</td>\n",
       "      <td>410</td>\n",
       "    </tr>\n",
       "    <tr>\n",
       "      <td>3</td>\n",
       "      <td>Matt Henry</td>\n",
       "      <td>ENG</td>\n",
       "      <td>349</td>\n",
       "    </tr>\n",
       "    <tr>\n",
       "      <td>4</td>\n",
       "      <td>Jasprit Bumrah</td>\n",
       "      <td>IND</td>\n",
       "      <td>343</td>\n",
       "    </tr>\n",
       "    <tr>\n",
       "      <td>5</td>\n",
       "      <td>Kagiso Rabada</td>\n",
       "      <td>AUS</td>\n",
       "      <td>307</td>\n",
       "    </tr>\n",
       "    <tr>\n",
       "      <td>6</td>\n",
       "      <td>Chris Woakes</td>\n",
       "      <td>AUS</td>\n",
       "      <td>252</td>\n",
       "    </tr>\n",
       "    <tr>\n",
       "      <td>7</td>\n",
       "      <td>Josh Hazlewood</td>\n",
       "      <td>SA</td>\n",
       "      <td>243</td>\n",
       "    </tr>\n",
       "    <tr>\n",
       "      <td>8</td>\n",
       "      <td>Pat Cummins</td>\n",
       "      <td>NZ</td>\n",
       "      <td>242</td>\n",
       "    </tr>\n",
       "    <tr>\n",
       "      <td>9</td>\n",
       "      <td>Mustafizur Rahman</td>\n",
       "      <td>NZ</td>\n",
       "      <td>236</td>\n",
       "    </tr>\n",
       "  </tbody>\n",
       "</table>\n",
       "</div>"
      ],
      "text/plain": [
       "              Player                    Team Rating\n",
       "0        Trent Boult  SA                        418\n",
       "1       Mehedi Hasan                     AUS    418\n",
       "2   Mujeeb Ur Rahman                      WI    410\n",
       "3         Matt Henry                     ENG    349\n",
       "4     Jasprit Bumrah                     IND    343\n",
       "5      Kagiso Rabada                     AUS    307\n",
       "6       Chris Woakes                     AUS    252\n",
       "7     Josh Hazlewood                      SA    243\n",
       "8        Pat Cummins                      NZ    242\n",
       "9  Mustafizur Rahman                      NZ    236"
      ]
     },
     "execution_count": 110,
     "metadata": {},
     "output_type": "execute_result"
    }
   ],
   "source": [
    "#Creating a data frame\n",
    "print(\"=\"*32,'BOWLERS',\"=\"*32)\n",
    "print(\"=\"*32,'       ',\"=\"*32)\n",
    "bowlers=pd.DataFrame()\n",
    "bowlers['Player']=Ply\n",
    "bowlers['Team']=Team\n",
    "bowlers['Rating']=Rating\n",
    "bowlers"
   ]
  },
  {
   "cell_type": "markdown",
   "metadata": {},
   "source": [
    "#### 6. Write a python program to scrape cricket rankings from ‘www.icc-cricket.com’. You have to scrape: Women Team"
   ]
  },
  {
   "cell_type": "code",
   "execution_count": 49,
   "metadata": {},
   "outputs": [],
   "source": [
    "page=requests.get(\"https://www.icc-cricket.com/rankings/womens/team-rankings/odi\")\n",
    "soup=BeautifulSoup(page.content)\n",
    "Team_name1=soup.find_all('span',class_='u-hide-phablet')\n",
    "Team_name=[]\n",
    "j=0\n",
    "for i in Team_name1:\n",
    "        Team_name.append(i.text)\n",
    "        j+=1\n",
    "        if j>9:\n",
    "            break "
   ]
  },
  {
   "cell_type": "code",
   "execution_count": 50,
   "metadata": {},
   "outputs": [],
   "source": [
    "Team_matches1=soup.find_all('td',class_=\"rankings-block__banner--matches\")\n",
    "Team_matches=[]\n",
    "for i in Team_matches1:\n",
    "    Team_matches.append(i.text)"
   ]
  },
  {
   "cell_type": "code",
   "execution_count": 51,
   "metadata": {},
   "outputs": [],
   "source": [
    "Team_points1=soup.find_all('td',class_=\"rankings-block__banner--points\")\n",
    "Team_points=[]\n",
    "for i in Team_points1:\n",
    "    Team_points.append(i.text)\n",
    "Team_m_and_p1=soup.find_all('td',class_=\"table-body__cell u-center-text\")\n",
    "j==2\n",
    "for i in Team_m_and_p1:\n",
    "    if j%2==0:\n",
    "        if j>30:\n",
    "            continue\n",
    "        else:\n",
    "            Team_matches.append(i.text)            \n",
    "    else:\n",
    "        if j>31:\n",
    "            continue\n",
    "        else:\n",
    "            Team_points.append(i.text)            \n",
    "    j+=1"
   ]
  },
  {
   "cell_type": "code",
   "execution_count": 52,
   "metadata": {},
   "outputs": [],
   "source": [
    "Team_Rating1=soup.find_all('td',class_=\"rankings-block__banner--rating u-text-right\")\n",
    "Team_Rating=[]\n",
    "for i in Team_Rating1:\n",
    "    Team_Rating.append(i.text.replace('\\n','').replace(' ',''))\n",
    "Team_Rating1=soup.find_all('td',class_=\"table-body__cell u-text-right rating\")\n",
    "for i in Team_Rating1:\n",
    "        Team_Rating.append(i.text.replace('\\n',''))"
   ]
  },
  {
   "cell_type": "code",
   "execution_count": 111,
   "metadata": {},
   "outputs": [
    {
     "name": "stdout",
     "output_type": "stream",
     "text": [
      "================================ ODI Women Teams ================================\n",
      "================================                 ================================\n"
     ]
    },
    {
     "data": {
      "text/html": [
       "<div>\n",
       "<style scoped>\n",
       "    .dataframe tbody tr th:only-of-type {\n",
       "        vertical-align: middle;\n",
       "    }\n",
       "\n",
       "    .dataframe tbody tr th {\n",
       "        vertical-align: top;\n",
       "    }\n",
       "\n",
       "    .dataframe thead th {\n",
       "        text-align: right;\n",
       "    }\n",
       "</style>\n",
       "<table border=\"1\" class=\"dataframe\">\n",
       "  <thead>\n",
       "    <tr style=\"text-align: right;\">\n",
       "      <th></th>\n",
       "      <th>Team Name</th>\n",
       "      <th>Team Matches</th>\n",
       "      <th>Team Point</th>\n",
       "      <th>Team Rating</th>\n",
       "    </tr>\n",
       "  </thead>\n",
       "  <tbody>\n",
       "    <tr>\n",
       "      <td>0</td>\n",
       "      <td>Australia</td>\n",
       "      <td>18</td>\n",
       "      <td>2,955</td>\n",
       "      <td>164</td>\n",
       "    </tr>\n",
       "    <tr>\n",
       "      <td>1</td>\n",
       "      <td>South Africa</td>\n",
       "      <td>24</td>\n",
       "      <td>2,828</td>\n",
       "      <td>118</td>\n",
       "    </tr>\n",
       "    <tr>\n",
       "      <td>2</td>\n",
       "      <td>England</td>\n",
       "      <td>17</td>\n",
       "      <td>1,993</td>\n",
       "      <td>117</td>\n",
       "    </tr>\n",
       "    <tr>\n",
       "      <td>3</td>\n",
       "      <td>India</td>\n",
       "      <td>20</td>\n",
       "      <td>2,226</td>\n",
       "      <td>111</td>\n",
       "    </tr>\n",
       "    <tr>\n",
       "      <td>4</td>\n",
       "      <td>New Zealand</td>\n",
       "      <td>21</td>\n",
       "      <td>1,947</td>\n",
       "      <td>93</td>\n",
       "    </tr>\n",
       "    <tr>\n",
       "      <td>5</td>\n",
       "      <td>West Indies</td>\n",
       "      <td>12</td>\n",
       "      <td>1,025</td>\n",
       "      <td>85</td>\n",
       "    </tr>\n",
       "    <tr>\n",
       "      <td>6</td>\n",
       "      <td>Pakistan</td>\n",
       "      <td>15</td>\n",
       "      <td>1,101</td>\n",
       "      <td>73</td>\n",
       "    </tr>\n",
       "    <tr>\n",
       "      <td>7</td>\n",
       "      <td>Bangladesh</td>\n",
       "      <td>5</td>\n",
       "      <td>306</td>\n",
       "      <td>61</td>\n",
       "    </tr>\n",
       "    <tr>\n",
       "      <td>8</td>\n",
       "      <td>Sri Lanka</td>\n",
       "      <td>11</td>\n",
       "      <td>519</td>\n",
       "      <td>47</td>\n",
       "    </tr>\n",
       "    <tr>\n",
       "      <td>9</td>\n",
       "      <td>Ireland</td>\n",
       "      <td>2</td>\n",
       "      <td>25</td>\n",
       "      <td>13</td>\n",
       "    </tr>\n",
       "  </tbody>\n",
       "</table>\n",
       "</div>"
      ],
      "text/plain": [
       "      Team Name Team Matches Team Point Team Rating\n",
       "0     Australia           18      2,955         164\n",
       "1  South Africa           24      2,828         118\n",
       "2       England           17      1,993         117\n",
       "3         India           20      2,226         111\n",
       "4   New Zealand           21      1,947          93\n",
       "5   West Indies           12      1,025          85\n",
       "6      Pakistan           15      1,101          73\n",
       "7    Bangladesh            5        306          61\n",
       "8     Sri Lanka           11        519          47\n",
       "9       Ireland            2         25          13"
      ]
     },
     "execution_count": 111,
     "metadata": {},
     "output_type": "execute_result"
    }
   ],
   "source": [
    "#Creating a data frame\n",
    "cricket=pd.DataFrame()\n",
    "cricket['Team Name']=Team_name\n",
    "cricket['Team Matches']=Team_matches\n",
    "cricket['Team Point']=Team_points\n",
    "cricket['Team Rating']=Team_Rating\n",
    "print(\"=\"*32,'ODI Women Teams',\"=\"*32)\n",
    "print(\"=\"*32,'               ',\"=\"*32)\n",
    "cricket"
   ]
  },
  {
   "cell_type": "markdown",
   "metadata": {},
   "source": [
    "#### ii) Top 10 women’s ODI players along with the records of their team and rating."
   ]
  },
  {
   "cell_type": "code",
   "execution_count": 54,
   "metadata": {},
   "outputs": [],
   "source": [
    "page=requests.get(\"https://www.icc-cricket.com/rankings/womens/player-rankings/odi/batting\")\n",
    "page\n",
    "soup=BeautifulSoup(page.content)"
   ]
  },
  {
   "cell_type": "code",
   "execution_count": 55,
   "metadata": {},
   "outputs": [],
   "source": [
    "Pl=[]\n",
    "Batting1=soup.find_all('div',class_='rankings-block__banner--name-large')\n",
    "for i in Batting1:\n",
    "    Pl.append(i.text)\n",
    "Batting1=soup.find_all('td',class_='table-body__cell rankings-table__name name')\n",
    "j=0\n",
    "for i in Batting1:\n",
    "    if j<9:\n",
    "        Pl.append(i.text.replace('\\n',''))\n",
    "    else:\n",
    "        break\n",
    "    j+=1"
   ]
  },
  {
   "cell_type": "code",
   "execution_count": 56,
   "metadata": {},
   "outputs": [],
   "source": [
    "Team1=soup.find_all('div',class_='rankings-block__banner--nationality')\n",
    "Team=[]\n",
    "for i in Team1:\n",
    "    Team.append(i.text.replace('\\n',''))\n",
    "Team1=soup.find_all('span',class_='table-body__logo-text')\n",
    "j=0\n",
    "for i in Team1:\n",
    "    if j<9:\n",
    "        Team.append(i.text)\n",
    "    else:\n",
    "        break\n",
    "    j+=1"
   ]
  },
  {
   "cell_type": "code",
   "execution_count": 57,
   "metadata": {},
   "outputs": [],
   "source": [
    "Rating1=soup.find_all('span',class_=\"rankings-block__career-best-text\")\n",
    "Rating=[]\n",
    "for i in Rating1:\n",
    "    Rating.append(i.text.replace('\\n',''))\n",
    "Rating1=soup.find_all('td',class_=\"table-body__cell u-text-right u-hide-phablet\")\n",
    "j=0\n",
    "for i in Rating1:\n",
    "    if j<9:\n",
    "        Rating.append(i.text.replace('\\n',''))\n",
    "    else:\n",
    "        break\n",
    "    j+=1"
   ]
  },
  {
   "cell_type": "code",
   "execution_count": 58,
   "metadata": {},
   "outputs": [
    {
     "name": "stdout",
     "output_type": "stream",
     "text": [
      "================================ Batting ================================\n",
      "================================         ================================\n"
     ]
    },
    {
     "data": {
      "text/html": [
       "<div>\n",
       "<style scoped>\n",
       "    .dataframe tbody tr th:only-of-type {\n",
       "        vertical-align: middle;\n",
       "    }\n",
       "\n",
       "    .dataframe tbody tr th {\n",
       "        vertical-align: top;\n",
       "    }\n",
       "\n",
       "    .dataframe thead th {\n",
       "        text-align: right;\n",
       "    }\n",
       "</style>\n",
       "<table border=\"1\" class=\"dataframe\">\n",
       "  <thead>\n",
       "    <tr style=\"text-align: right;\">\n",
       "      <th></th>\n",
       "      <th>Player</th>\n",
       "      <th>Team</th>\n",
       "      <th>Rating</th>\n",
       "    </tr>\n",
       "  </thead>\n",
       "  <tbody>\n",
       "    <tr>\n",
       "      <td>0</td>\n",
       "      <td>Tammy Beaumont</td>\n",
       "      <td>ENG</td>\n",
       "      <td>765 v New Zeal...</td>\n",
       "    </tr>\n",
       "    <tr>\n",
       "      <td>1</td>\n",
       "      <td>Lizelle Lee</td>\n",
       "      <td>SA</td>\n",
       "      <td>773 v India, 1...</td>\n",
       "    </tr>\n",
       "    <tr>\n",
       "      <td>2</td>\n",
       "      <td>Alyssa Healy</td>\n",
       "      <td>AUS</td>\n",
       "      <td>756 v New Zeal...</td>\n",
       "    </tr>\n",
       "    <tr>\n",
       "      <td>3</td>\n",
       "      <td>Stafanie Taylor</td>\n",
       "      <td>WI</td>\n",
       "      <td>765 v India, 0...</td>\n",
       "    </tr>\n",
       "    <tr>\n",
       "      <td>4</td>\n",
       "      <td>Meg Lanning</td>\n",
       "      <td>AUS</td>\n",
       "      <td>834 v New Zeal...</td>\n",
       "    </tr>\n",
       "    <tr>\n",
       "      <td>5</td>\n",
       "      <td>Amy Satterthwaite</td>\n",
       "      <td>NZ</td>\n",
       "      <td>756 v Australi...</td>\n",
       "    </tr>\n",
       "    <tr>\n",
       "      <td>6</td>\n",
       "      <td>Smriti Mandhana</td>\n",
       "      <td>IND</td>\n",
       "      <td>797 v England,...</td>\n",
       "    </tr>\n",
       "    <tr>\n",
       "      <td>7</td>\n",
       "      <td>Mithali Raj</td>\n",
       "      <td>IND</td>\n",
       "      <td>839 v Australi...</td>\n",
       "    </tr>\n",
       "    <tr>\n",
       "      <td>8</td>\n",
       "      <td>Natalie Sciver</td>\n",
       "      <td>ENG</td>\n",
       "      <td>712 v India, 2...</td>\n",
       "    </tr>\n",
       "    <tr>\n",
       "      <td>9</td>\n",
       "      <td>Laura Wolvaardt</td>\n",
       "      <td>SA</td>\n",
       "      <td>725 v India, 0...</td>\n",
       "    </tr>\n",
       "  </tbody>\n",
       "</table>\n",
       "</div>"
      ],
      "text/plain": [
       "              Player                     Team  \\\n",
       "0     Tammy Beaumont  ENG                       \n",
       "1        Lizelle Lee                       SA   \n",
       "2       Alyssa Healy                      AUS   \n",
       "3    Stafanie Taylor                       WI   \n",
       "4        Meg Lanning                      AUS   \n",
       "5  Amy Satterthwaite                       NZ   \n",
       "6    Smriti Mandhana                      IND   \n",
       "7        Mithali Raj                      IND   \n",
       "8     Natalie Sciver                      ENG   \n",
       "9    Laura Wolvaardt                       SA   \n",
       "\n",
       "                                              Rating  \n",
       "0                                  765 v New Zeal...  \n",
       "1                                  773 v India, 1...  \n",
       "2                                  756 v New Zeal...  \n",
       "3                                  765 v India, 0...  \n",
       "4                                  834 v New Zeal...  \n",
       "5                                  756 v Australi...  \n",
       "6                                  797 v England,...  \n",
       "7                                  839 v Australi...  \n",
       "8                                  712 v India, 2...  \n",
       "9                                  725 v India, 0...  "
      ]
     },
     "execution_count": 58,
     "metadata": {},
     "output_type": "execute_result"
    }
   ],
   "source": [
    "#Creating a data frame\n",
    "Batsman=pd.DataFrame()\n",
    "Batsman['Player']=Pl\n",
    "Batsman['Team']=Team\n",
    "Batsman['Rating']=Rating\n",
    "print(\"=\"*32,'Batting',\"=\"*32)\n",
    "print(\"=\"*32,'       ',\"=\"*32)\n",
    "Batsman"
   ]
  },
  {
   "cell_type": "markdown",
   "metadata": {},
   "source": [
    "#### iii) Top 10 women’s ODI all-rounder along with the records of their team and rating"
   ]
  },
  {
   "cell_type": "code",
   "execution_count": 59,
   "metadata": {},
   "outputs": [],
   "source": [
    "#importing required libraries\n",
    "from bs4 import BeautifulSoup\n",
    "import requests\n",
    "import pandas as pd"
   ]
  },
  {
   "cell_type": "code",
   "execution_count": 60,
   "metadata": {},
   "outputs": [],
   "source": [
    "page=requests.get(\"https://www.icc-cricket.com/rankings/womens/player-rankings/odi/all-rounder\")\n",
    "page\n",
    "soup=BeautifulSoup(page.content)"
   ]
  },
  {
   "cell_type": "code",
   "execution_count": 61,
   "metadata": {},
   "outputs": [],
   "source": [
    "Team=[]\n",
    "Team1=soup.find_all('div',class_='rankings-block__banner--nationality')\n",
    "for i in Team1:\n",
    "    Team.append(i.text.replace('\\n',''))\n",
    "Team\n",
    "Team1=soup.find_all('span',class_='table-body__logo-text')\n",
    "j=0\n",
    "for i in Team1:\n",
    "    if j<9:\n",
    "        Team.append(i.text)\n",
    "    else:\n",
    "        break\n",
    "    j+=1"
   ]
  },
  {
   "cell_type": "code",
   "execution_count": 62,
   "metadata": {},
   "outputs": [],
   "source": [
    "Pl=[]\n",
    "Name1=soup.find_all('div',class_='rankings-block__banner--name-large')\n",
    "for i in Name1:\n",
    "    Pl.append(i.text)\n",
    "Name1=soup.find_all('td',class_='table-body__cell rankings-table__name name')\n",
    "j=0\n",
    "for i in Name1:\n",
    "    if j<9:\n",
    "        Pl.append(i.text.replace('\\n',''))\n",
    "    else:\n",
    "        break\n",
    "    j+=1"
   ]
  },
  {
   "cell_type": "code",
   "execution_count": 63,
   "metadata": {},
   "outputs": [
    {
     "data": {
      "text/plain": [
       "['418', '418', '410', '349', '343', '307', '252', '243', '242', '236']"
      ]
     },
     "execution_count": 63,
     "metadata": {},
     "output_type": "execute_result"
    }
   ],
   "source": [
    "Rating1=soup.find_all('div',class_=\"rankings-block__banner--rating\")\n",
    "Rating=[]\n",
    "for i in Rating1:\n",
    "    Rating.append(i.text.replace('\\n',''))\n",
    "Rating1=soup.find_all('td',class_=\"table-body__cell rating\")\n",
    "j=0\n",
    "for i in Rating1:\n",
    "    if j<9:\n",
    "        Rating.append(i.text.replace('\\n',''))\n",
    "    else:\n",
    "        break\n",
    "    j+=1\n",
    "Rating"
   ]
  },
  {
   "cell_type": "code",
   "execution_count": 64,
   "metadata": {},
   "outputs": [],
   "source": [
    "CBR1=soup.find_all('span',class_=\"rankings-block__career-best-text\")\n",
    "CBR=[]\n",
    "for i in CBR1:\n",
    "    CBR.append(i.text.replace('\\n',''))\n",
    "CBR1=soup.find_all('td',class_=\"table-body__cell u-text-right u-hide-phablet\")\n",
    "j=0\n",
    "for i in CBR1:\n",
    "    if j<9:\n",
    "        CBR.append(i.text.replace('\\n','').replace(' ',''))\n",
    "    else:\n",
    "        break\n",
    "    j+=1"
   ]
  },
  {
   "cell_type": "code",
   "execution_count": 65,
   "metadata": {},
   "outputs": [
    {
     "name": "stdout",
     "output_type": "stream",
     "text": [
      "================================ ODI Women Teams ================================\n"
     ]
    },
    {
     "data": {
      "text/html": [
       "<div>\n",
       "<style scoped>\n",
       "    .dataframe tbody tr th:only-of-type {\n",
       "        vertical-align: middle;\n",
       "    }\n",
       "\n",
       "    .dataframe tbody tr th {\n",
       "        vertical-align: top;\n",
       "    }\n",
       "\n",
       "    .dataframe thead th {\n",
       "        text-align: right;\n",
       "    }\n",
       "</style>\n",
       "<table border=\"1\" class=\"dataframe\">\n",
       "  <thead>\n",
       "    <tr style=\"text-align: right;\">\n",
       "      <th></th>\n",
       "      <th>Team</th>\n",
       "      <th>Player</th>\n",
       "      <th>Rating</th>\n",
       "      <th>Carrier Best Rating</th>\n",
       "    </tr>\n",
       "  </thead>\n",
       "  <tbody>\n",
       "    <tr>\n",
       "      <td>0</td>\n",
       "      <td>SA</td>\n",
       "      <td>Marizanne Kapp</td>\n",
       "      <td>418</td>\n",
       "      <td>418 v India, 1...</td>\n",
       "    </tr>\n",
       "    <tr>\n",
       "      <td>1</td>\n",
       "      <td>AUS</td>\n",
       "      <td>Ellyse Perry</td>\n",
       "      <td>418</td>\n",
       "      <td>548vWestIndies,11/09/2019</td>\n",
       "    </tr>\n",
       "    <tr>\n",
       "      <td>2</td>\n",
       "      <td>WI</td>\n",
       "      <td>Stafanie Taylor</td>\n",
       "      <td>410</td>\n",
       "      <td>559vNewZealand,10/10/2013</td>\n",
       "    </tr>\n",
       "    <tr>\n",
       "      <td>3</td>\n",
       "      <td>ENG</td>\n",
       "      <td>Natalie Sciver</td>\n",
       "      <td>349</td>\n",
       "      <td>349vNewZealand,28/02/2021</td>\n",
       "    </tr>\n",
       "    <tr>\n",
       "      <td>4</td>\n",
       "      <td>IND</td>\n",
       "      <td>Deepti Sharma</td>\n",
       "      <td>343</td>\n",
       "      <td>397vSouthAfrica,09/10/2019</td>\n",
       "    </tr>\n",
       "    <tr>\n",
       "      <td>5</td>\n",
       "      <td>AUS</td>\n",
       "      <td>Jess Jonassen</td>\n",
       "      <td>307</td>\n",
       "      <td>308vWestIndies,11/09/2019</td>\n",
       "    </tr>\n",
       "    <tr>\n",
       "      <td>6</td>\n",
       "      <td>AUS</td>\n",
       "      <td>Ashleigh Gardner</td>\n",
       "      <td>252</td>\n",
       "      <td>256vNewZealand,04/04/2021</td>\n",
       "    </tr>\n",
       "    <tr>\n",
       "      <td>7</td>\n",
       "      <td>SA</td>\n",
       "      <td>Dane van Niekerk</td>\n",
       "      <td>243</td>\n",
       "      <td>421vSriLanka,11/02/2019</td>\n",
       "    </tr>\n",
       "    <tr>\n",
       "      <td>8</td>\n",
       "      <td>NZ</td>\n",
       "      <td>Sophie Devine</td>\n",
       "      <td>242</td>\n",
       "      <td>305vAustralia,05/10/2020</td>\n",
       "    </tr>\n",
       "    <tr>\n",
       "      <td>9</td>\n",
       "      <td>NZ</td>\n",
       "      <td>Amelia Kerr</td>\n",
       "      <td>236</td>\n",
       "      <td>247vAustralia,07/04/2021</td>\n",
       "    </tr>\n",
       "  </tbody>\n",
       "</table>\n",
       "</div>"
      ],
      "text/plain": [
       "                     Team            Player Rating  \\\n",
       "0  SA                        Marizanne Kapp    418   \n",
       "1                     AUS      Ellyse Perry    418   \n",
       "2                      WI   Stafanie Taylor    410   \n",
       "3                     ENG    Natalie Sciver    349   \n",
       "4                     IND     Deepti Sharma    343   \n",
       "5                     AUS     Jess Jonassen    307   \n",
       "6                     AUS  Ashleigh Gardner    252   \n",
       "7                      SA  Dane van Niekerk    243   \n",
       "8                      NZ     Sophie Devine    242   \n",
       "9                      NZ       Amelia Kerr    236   \n",
       "\n",
       "                                 Carrier Best Rating  \n",
       "0                                  418 v India, 1...  \n",
       "1                          548vWestIndies,11/09/2019  \n",
       "2                          559vNewZealand,10/10/2013  \n",
       "3                          349vNewZealand,28/02/2021  \n",
       "4                         397vSouthAfrica,09/10/2019  \n",
       "5                          308vWestIndies,11/09/2019  \n",
       "6                          256vNewZealand,04/04/2021  \n",
       "7                            421vSriLanka,11/02/2019  \n",
       "8                           305vAustralia,05/10/2020  \n",
       "9                           247vAustralia,07/04/2021  "
      ]
     },
     "execution_count": 65,
     "metadata": {},
     "output_type": "execute_result"
    }
   ],
   "source": [
    "#Creating a data frame\n",
    "WAR=pd.DataFrame()\n",
    "WAR['Team']=Team\n",
    "WAR['Player']=Pl\n",
    "WAR['Rating']=Rating\n",
    "WAR['Carrier Best Rating']=CBR\n",
    "print(\"=\"*32,'ODI Women Teams',\"=\"*32)\n",
    "WAR"
   ]
  },
  {
   "cell_type": "markdown",
   "metadata": {},
   "source": [
    "### 9. Write a python program to scrape fresher job listings from ‘https://internshala.com/’. It should include job title,company name, CTC, and apply date."
   ]
  },
  {
   "cell_type": "code",
   "execution_count": 66,
   "metadata": {},
   "outputs": [],
   "source": [
    "#importing required libraries\n",
    "from bs4 import BeautifulSoup\n",
    "import requests\n",
    "import pandas as pd"
   ]
  },
  {
   "cell_type": "code",
   "execution_count": 67,
   "metadata": {},
   "outputs": [],
   "source": [
    "JT=[]\n",
    "CN=[]\n",
    "for i in range(1,4,1):\n",
    "    page=requests.get(\"https://internshala.com/fresher-jobs/page\"+'-'+str(i))\n",
    "    soup=BeautifulSoup(page.content)\n",
    "    JT1=soup.find_all('div',class_='heading_4_5 profile')\n",
    "    CN1=soup.find_all('div',class_='heading_6 company_name')\n",
    "    for j in JT1:\n",
    "            JT.append(j.text.replace('\\n','').replace(' ',''))\n",
    "    for c in CN1:\n",
    "            CN.append(c.text.replace('\\n','').replace(' ',''))"
   ]
  },
  {
   "cell_type": "code",
   "execution_count": 68,
   "metadata": {},
   "outputs": [],
   "source": [
    "CTC=[]\n",
    "for i in range(1,4,1):\n",
    "    page=requests.get(\"https://internshala.com/fresher-jobs/page\"+'-'+str(i))\n",
    "    soup=BeautifulSoup(page.content)\n",
    "    CTC1=soup.find_all('div',class_='item_body')\n",
    "    for i in CTC1:\n",
    "            CTC.append(i.text.replace('\\n','').replace(' ',''))\n",
    "    for i in CTC:\n",
    "        if i=='Starts\\xa0Immediately':\n",
    "            CTC.remove(i)\n",
    "        else:\n",
    "            pass"
   ]
  },
  {
   "cell_type": "code",
   "execution_count": 69,
   "metadata": {},
   "outputs": [],
   "source": [
    "apply_date=[]\n",
    "for i in CTC:\n",
    "    if i[-1::]!='A':\n",
    "        apply_date.append(i)\n",
    "        CTC.remove(i)        "
   ]
  },
  {
   "cell_type": "code",
   "execution_count": 70,
   "metadata": {},
   "outputs": [
    {
     "data": {
      "text/plain": [
       "(112, 112, 112)"
      ]
     },
     "execution_count": 70,
     "metadata": {},
     "output_type": "execute_result"
    }
   ],
   "source": [
    "len(apply_date),len(CTC),len(JT)"
   ]
  },
  {
   "cell_type": "code",
   "execution_count": 71,
   "metadata": {},
   "outputs": [
    {
     "data": {
      "text/plain": [
       "112"
      ]
     },
     "execution_count": 71,
     "metadata": {},
     "output_type": "execute_result"
    }
   ],
   "source": [
    "CN=[]\n",
    "for i in range(1,4,1):\n",
    "    page=requests.get(\"https://internshala.com/fresher-jobs/page\"+'-'+str(i))\n",
    "    soup=BeautifulSoup(page.content)\n",
    "    CN1=soup.find_all('div',class_='heading_6 company_name')\n",
    "    for i in CN1:\n",
    "        CN.append(i.text.replace('\\n','').replace(' ',''))\n",
    "len(CN)        "
   ]
  },
  {
   "cell_type": "code",
   "execution_count": 72,
   "metadata": {},
   "outputs": [],
   "source": [
    "#Creating a data frame\n",
    "int_shal=pd.DataFrame()\n",
    "int_shal['Company Name']=CN\n",
    "int_shal['Job Title']=JT\n",
    "int_shal['CTC']=CTC\n",
    "int_shal['Apply Date']=apply_date"
   ]
  },
  {
   "cell_type": "code",
   "execution_count": 73,
   "metadata": {},
   "outputs": [
    {
     "data": {
      "text/html": [
       "<div>\n",
       "<style scoped>\n",
       "    .dataframe tbody tr th:only-of-type {\n",
       "        vertical-align: middle;\n",
       "    }\n",
       "\n",
       "    .dataframe tbody tr th {\n",
       "        vertical-align: top;\n",
       "    }\n",
       "\n",
       "    .dataframe thead th {\n",
       "        text-align: right;\n",
       "    }\n",
       "</style>\n",
       "<table border=\"1\" class=\"dataframe\">\n",
       "  <thead>\n",
       "    <tr style=\"text-align: right;\">\n",
       "      <th></th>\n",
       "      <th>Company Name</th>\n",
       "      <th>Job Title</th>\n",
       "      <th>CTC</th>\n",
       "      <th>Apply Date</th>\n",
       "    </tr>\n",
       "  </thead>\n",
       "  <tbody>\n",
       "    <tr>\n",
       "      <td>0</td>\n",
       "      <td>AptigenzSolutionsPrivateLimited</td>\n",
       "      <td>SoftwareDeveloper</td>\n",
       "      <td>3-3.2LPA</td>\n",
       "      <td>24Jul'21</td>\n",
       "    </tr>\n",
       "    <tr>\n",
       "      <td>1</td>\n",
       "      <td>Noise</td>\n",
       "      <td>ManagementTrainee-AssistantCategoryManager</td>\n",
       "      <td>6-10LPA</td>\n",
       "      <td>24Jul'21</td>\n",
       "    </tr>\n",
       "    <tr>\n",
       "      <td>2</td>\n",
       "      <td>RoaDo</td>\n",
       "      <td>AccountExecutive-FieldSales</td>\n",
       "      <td>3.2-4LPA</td>\n",
       "      <td>24Jul'21</td>\n",
       "    </tr>\n",
       "    <tr>\n",
       "      <td>3</td>\n",
       "      <td>CrewKarma</td>\n",
       "      <td>SoftwareEngineer</td>\n",
       "      <td>3-5LPA</td>\n",
       "      <td>24Jul'21</td>\n",
       "    </tr>\n",
       "    <tr>\n",
       "      <td>4</td>\n",
       "      <td>IQGateway</td>\n",
       "      <td>AssociateSoftwareDeveloper</td>\n",
       "      <td>3.6-10LPA</td>\n",
       "      <td>24Jul'21</td>\n",
       "    </tr>\n",
       "    <tr>\n",
       "      <td>...</td>\n",
       "      <td>...</td>\n",
       "      <td>...</td>\n",
       "      <td>...</td>\n",
       "      <td>...</td>\n",
       "    </tr>\n",
       "    <tr>\n",
       "      <td>107</td>\n",
       "      <td>WebMOBI</td>\n",
       "      <td>BackendDeveloper</td>\n",
       "      <td>3LPA</td>\n",
       "      <td>24Jun'21</td>\n",
       "    </tr>\n",
       "    <tr>\n",
       "      <td>108</td>\n",
       "      <td>TMBillSoftware</td>\n",
       "      <td>FullStackDeveloper</td>\n",
       "      <td>3LPA</td>\n",
       "      <td>24Jun'21</td>\n",
       "    </tr>\n",
       "    <tr>\n",
       "      <td>109</td>\n",
       "      <td>Kraftshala</td>\n",
       "      <td>JuniorSalesAssociate</td>\n",
       "      <td>4LPA</td>\n",
       "      <td>24Jun'21</td>\n",
       "    </tr>\n",
       "    <tr>\n",
       "      <td>110</td>\n",
       "      <td>BlackJack</td>\n",
       "      <td>DigitalMarketingSpecialist</td>\n",
       "      <td>3-5LPA</td>\n",
       "      <td>24Jun'21</td>\n",
       "    </tr>\n",
       "    <tr>\n",
       "      <td>111</td>\n",
       "      <td>Softsensor.ai</td>\n",
       "      <td>AssociateDataScientist</td>\n",
       "      <td>4-8LPA</td>\n",
       "      <td>24Jun'21</td>\n",
       "    </tr>\n",
       "  </tbody>\n",
       "</table>\n",
       "<p>112 rows × 4 columns</p>\n",
       "</div>"
      ],
      "text/plain": [
       "                        Company Name  \\\n",
       "0    AptigenzSolutionsPrivateLimited   \n",
       "1                              Noise   \n",
       "2                              RoaDo   \n",
       "3                          CrewKarma   \n",
       "4                          IQGateway   \n",
       "..                               ...   \n",
       "107                          WebMOBI   \n",
       "108                   TMBillSoftware   \n",
       "109                       Kraftshala   \n",
       "110                        BlackJack   \n",
       "111                    Softsensor.ai   \n",
       "\n",
       "                                      Job Title        CTC Apply Date  \n",
       "0                             SoftwareDeveloper   3-3.2LPA   24Jul'21  \n",
       "1    ManagementTrainee-AssistantCategoryManager    6-10LPA   24Jul'21  \n",
       "2                   AccountExecutive-FieldSales   3.2-4LPA   24Jul'21  \n",
       "3                              SoftwareEngineer     3-5LPA   24Jul'21  \n",
       "4                    AssociateSoftwareDeveloper  3.6-10LPA   24Jul'21  \n",
       "..                                          ...        ...        ...  \n",
       "107                            BackendDeveloper       3LPA   24Jun'21  \n",
       "108                          FullStackDeveloper       3LPA   24Jun'21  \n",
       "109                        JuniorSalesAssociate       4LPA   24Jun'21  \n",
       "110                  DigitalMarketingSpecialist     3-5LPA   24Jun'21  \n",
       "111                      AssociateDataScientist     4-8LPA   24Jun'21  \n",
       "\n",
       "[112 rows x 4 columns]"
      ]
     },
     "execution_count": 73,
     "metadata": {},
     "output_type": "execute_result"
    }
   ],
   "source": [
    "int_shal"
   ]
  },
  {
   "cell_type": "markdown",
   "metadata": {},
   "source": [
    "### 8. Write a python program to extract information about the local weather from the National Weather Servicewebsite of USA, https://www.weather.gov/ for the city, San Francisco. You need to extract data about 7 day extended forecast display for the city. The data should include period, short description, temperature and description."
   ]
  },
  {
   "cell_type": "code",
   "execution_count": 92,
   "metadata": {},
   "outputs": [],
   "source": [
    "#importing required libraries\n",
    "from bs4 import BeautifulSoup\n",
    "import requests\n",
    "import pandas as pd"
   ]
  },
  {
   "cell_type": "code",
   "execution_count": 93,
   "metadata": {},
   "outputs": [],
   "source": [
    "page=requests.get(\"https://forecast.weather.gov/MapClick.php?lat=37.7771&lon=-122.4196\")\n",
    "soup=BeautifulSoup(page.content)"
   ]
  },
  {
   "cell_type": "code",
   "execution_count": 94,
   "metadata": {},
   "outputs": [],
   "source": [
    "pr=soup.find_all('p',class_='period-name')\n",
    "Period=[]\n",
    "for i in pr:\n",
    "    Period.append(i.text)"
   ]
  },
  {
   "cell_type": "code",
   "execution_count": 95,
   "metadata": {},
   "outputs": [],
   "source": [
    "sd=soup.find_all('p',class_='short-desc')\n",
    "SD=[]\n",
    "for i in sd:\n",
    "    SD.append(i.text)"
   ]
  },
  {
   "cell_type": "code",
   "execution_count": 96,
   "metadata": {},
   "outputs": [],
   "source": [
    "TP=[]\n",
    "tph=soup.find_all('p',class_='temp temp-high')\n",
    "tpl=soup.find_all('p',class_='temp temp-low')\n",
    "k=0\n",
    "for j in tph:\n",
    "    TP.append(j.text.replace('\\n',''))\n",
    "    if k==4:\n",
    "        break        \n",
    "    TP.append(tpl[k].text.replace('\\n',''))\n",
    "    k+=1\n",
    "dis1=[]\n",
    "j=0\n",
    "discrp=soup.find_all('div',class_=\"col-sm-10 forecast-text\")\n",
    "for i in discrp:\n",
    "    if j<9:\n",
    "        dis1.append(i.text)\n",
    "    else:\n",
    "        break\n",
    "    j+=1"
   ]
  },
  {
   "cell_type": "code",
   "execution_count": 97,
   "metadata": {
    "scrolled": false
   },
   "outputs": [
    {
     "data": {
      "text/plain": [
       "(9, 9, 9, 9)"
      ]
     },
     "execution_count": 97,
     "metadata": {},
     "output_type": "execute_result"
    }
   ],
   "source": [
    "len(pr),len(SD),len(TP),len(dis1)"
   ]
  },
  {
   "cell_type": "code",
   "execution_count": 98,
   "metadata": {},
   "outputs": [
    {
     "data": {
      "text/html": [
       "<div>\n",
       "<style scoped>\n",
       "    .dataframe tbody tr th:only-of-type {\n",
       "        vertical-align: middle;\n",
       "    }\n",
       "\n",
       "    .dataframe tbody tr th {\n",
       "        vertical-align: top;\n",
       "    }\n",
       "\n",
       "    .dataframe thead th {\n",
       "        text-align: right;\n",
       "    }\n",
       "</style>\n",
       "<table border=\"1\" class=\"dataframe\">\n",
       "  <thead>\n",
       "    <tr style=\"text-align: right;\">\n",
       "      <th></th>\n",
       "      <th>Period</th>\n",
       "      <th>Short Desc.</th>\n",
       "      <th>Temp.</th>\n",
       "      <th>Discreption</th>\n",
       "    </tr>\n",
       "  </thead>\n",
       "  <tbody>\n",
       "    <tr>\n",
       "      <td>0</td>\n",
       "      <td>[This, [], Afternoon]</td>\n",
       "      <td>Sunny</td>\n",
       "      <td>High: 68 °F</td>\n",
       "      <td>Sunny, with a high near 68. West wind 16 to 21...</td>\n",
       "    </tr>\n",
       "    <tr>\n",
       "      <td>1</td>\n",
       "      <td>[Tonight, [], []]</td>\n",
       "      <td>IncreasingClouds andBreezy thenCloudy</td>\n",
       "      <td>Low: 55 °F</td>\n",
       "      <td>Increasing clouds, with a low around 55. Breez...</td>\n",
       "    </tr>\n",
       "    <tr>\n",
       "      <td>2</td>\n",
       "      <td>[Friday, [], []]</td>\n",
       "      <td>Mostly Cloudythen Sunnyand Breezy</td>\n",
       "      <td>High: 68 °F</td>\n",
       "      <td>Mostly cloudy, then gradually becoming sunny, ...</td>\n",
       "    </tr>\n",
       "    <tr>\n",
       "      <td>3</td>\n",
       "      <td>[Friday, [], Night]</td>\n",
       "      <td>Partly Cloudyand Breezythen MostlyCloudy</td>\n",
       "      <td>Low: 56 °F</td>\n",
       "      <td>Increasing clouds, with a low around 56. Breez...</td>\n",
       "    </tr>\n",
       "    <tr>\n",
       "      <td>4</td>\n",
       "      <td>[Saturday, [], []]</td>\n",
       "      <td>Partly Sunnythen Sunnyand Breezy</td>\n",
       "      <td>High: 71 °F</td>\n",
       "      <td>Mostly sunny, with a high near 71. Breezy, wit...</td>\n",
       "    </tr>\n",
       "    <tr>\n",
       "      <td>5</td>\n",
       "      <td>[Saturday, [], Night]</td>\n",
       "      <td>Mostly Clearand Breezythen PartlyCloudy</td>\n",
       "      <td>Low: 56 °F</td>\n",
       "      <td>Partly cloudy, with a low around 56. Breezy.</td>\n",
       "    </tr>\n",
       "    <tr>\n",
       "      <td>6</td>\n",
       "      <td>[Sunday, [], []]</td>\n",
       "      <td>Mostly Sunny</td>\n",
       "      <td>High: 69 °F</td>\n",
       "      <td>Mostly sunny, with a high near 69.</td>\n",
       "    </tr>\n",
       "    <tr>\n",
       "      <td>7</td>\n",
       "      <td>[Sunday, [], Night]</td>\n",
       "      <td>Partly Cloudy</td>\n",
       "      <td>Low: 57 °F</td>\n",
       "      <td>Partly cloudy, with a low around 57.</td>\n",
       "    </tr>\n",
       "    <tr>\n",
       "      <td>8</td>\n",
       "      <td>[Monday, [], []]</td>\n",
       "      <td>Mostly Sunny</td>\n",
       "      <td>High: 70 °F</td>\n",
       "      <td>Mostly sunny, with a high near 70.</td>\n",
       "    </tr>\n",
       "  </tbody>\n",
       "</table>\n",
       "</div>"
      ],
      "text/plain": [
       "                  Period                               Short Desc.  \\\n",
       "0  [This, [], Afternoon]                                     Sunny   \n",
       "1      [Tonight, [], []]     IncreasingClouds andBreezy thenCloudy   \n",
       "2       [Friday, [], []]         Mostly Cloudythen Sunnyand Breezy   \n",
       "3    [Friday, [], Night]  Partly Cloudyand Breezythen MostlyCloudy   \n",
       "4     [Saturday, [], []]          Partly Sunnythen Sunnyand Breezy   \n",
       "5  [Saturday, [], Night]   Mostly Clearand Breezythen PartlyCloudy   \n",
       "6       [Sunday, [], []]                              Mostly Sunny   \n",
       "7    [Sunday, [], Night]                             Partly Cloudy   \n",
       "8       [Monday, [], []]                              Mostly Sunny   \n",
       "\n",
       "         Temp.                                        Discreption  \n",
       "0  High: 68 °F  Sunny, with a high near 68. West wind 16 to 21...  \n",
       "1   Low: 55 °F  Increasing clouds, with a low around 55. Breez...  \n",
       "2  High: 68 °F  Mostly cloudy, then gradually becoming sunny, ...  \n",
       "3   Low: 56 °F  Increasing clouds, with a low around 56. Breez...  \n",
       "4  High: 71 °F  Mostly sunny, with a high near 71. Breezy, wit...  \n",
       "5   Low: 56 °F      Partly cloudy, with a low around 56. Breezy.   \n",
       "6  High: 69 °F                 Mostly sunny, with a high near 69.  \n",
       "7   Low: 57 °F               Partly cloudy, with a low around 57.  \n",
       "8  High: 70 °F                 Mostly sunny, with a high near 70.  "
      ]
     },
     "execution_count": 98,
     "metadata": {},
     "output_type": "execute_result"
    }
   ],
   "source": [
    "#Creating a data frame\n",
    "df=pd.DataFrame()\n",
    "df['Period']=pr\n",
    "df['Short Desc.']=SD\n",
    "df['Temp.']=TP\n",
    "df['Discreption']=dis1\n",
    "df"
   ]
  },
  {
   "cell_type": "markdown",
   "metadata": {},
   "source": [
    "### 10. Write a python program to scrape house details from mentioned url. It should include house title, location,area, emi and price\n"
   ]
  },
  {
   "cell_type": "code",
   "execution_count": 63,
   "metadata": {},
   "outputs": [],
   "source": [
    "#importing required libraries\n",
    "from bs4 import BeautifulSoup\n",
    "import requests\n",
    "import pandas as pd"
   ]
  },
  {
   "cell_type": "code",
   "execution_count": 64,
   "metadata": {},
   "outputs": [],
   "source": [
    "page=requests.get(\"https://www.nobroker.in/property/sale/bangalore/multiple?type=BHK4&searchParam=W3sibGF0IjoxMi45MTM5MDk2LCJsb24iOjc3LjYxMDE2OTEsInBsYWNlSWQiOiJDaElKTDRqNUFfMFVyanNSNHhmb3R6ejc4ckkiLCJwbGFjZU5hbWUiOiJIb3RlbCBTd2FkaXNodGEgQWFoYXIifSx7ImxhdCI6MTIuOTczMDM4LCJsb24iOjc3LjU3ODIxMzIsInBsYWNlSWQiOiJDaElKMzVHWXV3NFdyanNSMlc5b0xvQ3BhZWciLCJwbGFjZU5hbWUiOiJIb3NwaXRhbCBSb2FkIn0seyJsYXQiOjEyLjg3NjEyODcsImxvbiI6NzcuNjEyMTcwNDAwMDAwMDEsInBsYWNlSWQiOiJDaElKSjN6bGFpdHJyanNSbzh6a3p5NU43emciLCJwbGFjZU5hbWUiOiJIb3VzZSBvZiBIaXJhbmFuZGFuaSBMYWtlIFZlcmFuZGFocyJ9XQ==&propertyAge=0&radius=2.0\")\n",
    "soup=BeautifulSoup(page.content)"
   ]
  },
  {
   "cell_type": "code",
   "execution_count": 67,
   "metadata": {},
   "outputs": [],
   "source": [
    "ht=[]\n",
    "ht1=soup.find_all('h2',class_=\"heading-6 font-semi-bold nb__1AShY\")\n",
    "for i in ht1:\n",
    "    ht.append(i.text)"
   ]
  },
  {
   "cell_type": "code",
   "execution_count": 68,
   "metadata": {},
   "outputs": [],
   "source": [
    "lo=[]\n",
    "loc=soup.find_all('div',class_=\"nb__2CMjv\")\n",
    "for i in loc:\n",
    "    lo.append(i.text)"
   ]
  },
  {
   "cell_type": "code",
   "execution_count": 69,
   "metadata": {},
   "outputs": [],
   "source": [
    "ar=[]\n",
    "area=soup.find_all('div',class_=\"nb__3oNyC\")\n",
    "for i in area:\n",
    "    ar.append(i.text)"
   ]
  },
  {
   "cell_type": "code",
   "execution_count": 70,
   "metadata": {},
   "outputs": [],
   "source": [
    "em=[]\n",
    "em2=[]\n",
    "price=[]\n",
    "emi=soup.find_all('div',class_=\"nb__2NPHR\")\n",
    "j=2\n",
    "while j<40:\n",
    "    em.append(emi[j].text)\n",
    "    price.append(emi[j+1].text)\n",
    "    j+=4\n",
    "for i in em:\n",
    "    em2.append(i[:-13:])"
   ]
  },
  {
   "cell_type": "code",
   "execution_count": 71,
   "metadata": {},
   "outputs": [
    {
     "data": {
      "text/html": [
       "<div>\n",
       "<style scoped>\n",
       "    .dataframe tbody tr th:only-of-type {\n",
       "        vertical-align: middle;\n",
       "    }\n",
       "\n",
       "    .dataframe tbody tr th {\n",
       "        vertical-align: top;\n",
       "    }\n",
       "\n",
       "    .dataframe thead th {\n",
       "        text-align: right;\n",
       "    }\n",
       "</style>\n",
       "<table border=\"1\" class=\"dataframe\">\n",
       "  <thead>\n",
       "    <tr style=\"text-align: right;\">\n",
       "      <th></th>\n",
       "      <th>House Title</th>\n",
       "      <th>Location</th>\n",
       "      <th>Area</th>\n",
       "      <th>Price</th>\n",
       "      <th>EMI</th>\n",
       "    </tr>\n",
       "  </thead>\n",
       "  <tbody>\n",
       "    <tr>\n",
       "      <td>0</td>\n",
       "      <td>4 BHK In Independent House  For Sale  In Btm 2...</td>\n",
       "      <td>Independent House, 3rd Cross Rd, Near Sangama ...</td>\n",
       "      <td>3,600 sqft</td>\n",
       "      <td>₹1.85 Crores₹5,139 per sq.ft.</td>\n",
       "      <td>₹1.06 Lacs/Month</td>\n",
       "    </tr>\n",
       "    <tr>\n",
       "      <td>1</td>\n",
       "      <td>4 BHK In Independent House  For Sale  In Btm W...</td>\n",
       "      <td>Independent House, 11th main BTM 1st stage(nea...</td>\n",
       "      <td>1,600 sqft</td>\n",
       "      <td>₹2.4 Crores₹15,000 per sq.ft.</td>\n",
       "      <td>₹1.38 Lacs/Month</td>\n",
       "    </tr>\n",
       "    <tr>\n",
       "      <td>2</td>\n",
       "      <td>4 BHK For Sale  in Btm Layout 2nd Stage</td>\n",
       "      <td>Independent House, 7th Main Rd,,ns palya, near...</td>\n",
       "      <td>2,400 sqft</td>\n",
       "      <td>₹2 Crores₹8,333 per sq.ft.</td>\n",
       "      <td>₹1.15 Lacs/Month</td>\n",
       "    </tr>\n",
       "    <tr>\n",
       "      <td>3</td>\n",
       "      <td>4 BHK Flat  For Sale  In Sanskrithi Pearl Apar...</td>\n",
       "      <td>Sanskrithi Pearl Apartment, 4th A Cross Rd, MC...</td>\n",
       "      <td>2,500 sqft</td>\n",
       "      <td>₹3 Crores₹12,000 per sq.ft.</td>\n",
       "      <td>₹1.72 Lacs/Month</td>\n",
       "    </tr>\n",
       "    <tr>\n",
       "      <td>4</td>\n",
       "      <td>4 BHK For Sale  in Btm 2nd Stage</td>\n",
       "      <td>Independent House, 12th Cross, 29th Main S M R...</td>\n",
       "      <td>2,400 sqft</td>\n",
       "      <td>₹2.5 Crores₹10,417 per sq.ft.</td>\n",
       "      <td>₹1.43 Lacs/Month</td>\n",
       "    </tr>\n",
       "    <tr>\n",
       "      <td>5</td>\n",
       "      <td>4 BHK In Independent House  For Sale  In Btm L...</td>\n",
       "      <td>Independent House, 4th Main, Bannerghatta Main...</td>\n",
       "      <td>3,300 sqft</td>\n",
       "      <td>₹6.5 Crores₹19,697 per sq.ft.</td>\n",
       "      <td>₹3.73 Lacs/Month</td>\n",
       "    </tr>\n",
       "    <tr>\n",
       "      <td>6</td>\n",
       "      <td>4 BHK In Independent House  For Sale  In Btm L...</td>\n",
       "      <td>Independent House, 9th B main, Near St Thomas ...</td>\n",
       "      <td>2,400 sqft</td>\n",
       "      <td>₹2.8 Crores₹11,667 per sq.ft.</td>\n",
       "      <td>₹1.6 Lacs/Month</td>\n",
       "    </tr>\n",
       "    <tr>\n",
       "      <td>7</td>\n",
       "      <td>4 BHK Flat  For Sale  In Btm Layout</td>\n",
       "      <td>Standalone Building, 2nd Stage NS Palya 8th Ma...</td>\n",
       "      <td>1,440 sqft</td>\n",
       "      <td>₹70 Lacs₹4,861 per sq.ft.</td>\n",
       "      <td>₹40,120/Month</td>\n",
       "    </tr>\n",
       "    <tr>\n",
       "      <td>8</td>\n",
       "      <td>4 BHK Flat  For Sale  In New Gurappana Palya</td>\n",
       "      <td>Standalone Building, KEB Colony,  Near Avallam...</td>\n",
       "      <td>1,440 sqft</td>\n",
       "      <td>₹1.6 Crores₹11,111 per sq.ft.</td>\n",
       "      <td>₹91,703/Month</td>\n",
       "    </tr>\n",
       "    <tr>\n",
       "      <td>9</td>\n",
       "      <td>4 BHK For Sale  in Btm Layout</td>\n",
       "      <td>Standalone Building, 1st Stage, BTM Layout, 9t...</td>\n",
       "      <td>1,300 sqft</td>\n",
       "      <td>₹1.1 Crores₹8,462 per sq.ft.</td>\n",
       "      <td>₹63,045/Month</td>\n",
       "    </tr>\n",
       "  </tbody>\n",
       "</table>\n",
       "</div>"
      ],
      "text/plain": [
       "                                         House Title  \\\n",
       "0  4 BHK In Independent House  For Sale  In Btm 2...   \n",
       "1  4 BHK In Independent House  For Sale  In Btm W...   \n",
       "2           4 BHK For Sale  in Btm Layout 2nd Stage    \n",
       "3  4 BHK Flat  For Sale  In Sanskrithi Pearl Apar...   \n",
       "4                  4 BHK For Sale  in Btm 2nd Stage    \n",
       "5  4 BHK In Independent House  For Sale  In Btm L...   \n",
       "6  4 BHK In Independent House  For Sale  In Btm L...   \n",
       "7               4 BHK Flat  For Sale  In Btm Layout    \n",
       "8      4 BHK Flat  For Sale  In New Gurappana Palya    \n",
       "9                     4 BHK For Sale  in Btm Layout    \n",
       "\n",
       "                                            Location        Area  \\\n",
       "0  Independent House, 3rd Cross Rd, Near Sangama ...  3,600 sqft   \n",
       "1  Independent House, 11th main BTM 1st stage(nea...  1,600 sqft   \n",
       "2  Independent House, 7th Main Rd,,ns palya, near...  2,400 sqft   \n",
       "3  Sanskrithi Pearl Apartment, 4th A Cross Rd, MC...  2,500 sqft   \n",
       "4  Independent House, 12th Cross, 29th Main S M R...  2,400 sqft   \n",
       "5  Independent House, 4th Main, Bannerghatta Main...  3,300 sqft   \n",
       "6  Independent House, 9th B main, Near St Thomas ...  2,400 sqft   \n",
       "7  Standalone Building, 2nd Stage NS Palya 8th Ma...  1,440 sqft   \n",
       "8  Standalone Building, KEB Colony,  Near Avallam...  1,440 sqft   \n",
       "9  Standalone Building, 1st Stage, BTM Layout, 9t...  1,300 sqft   \n",
       "\n",
       "                           Price               EMI  \n",
       "0  ₹1.85 Crores₹5,139 per sq.ft.  ₹1.06 Lacs/Month  \n",
       "1  ₹2.4 Crores₹15,000 per sq.ft.  ₹1.38 Lacs/Month  \n",
       "2     ₹2 Crores₹8,333 per sq.ft.  ₹1.15 Lacs/Month  \n",
       "3    ₹3 Crores₹12,000 per sq.ft.  ₹1.72 Lacs/Month  \n",
       "4  ₹2.5 Crores₹10,417 per sq.ft.  ₹1.43 Lacs/Month  \n",
       "5  ₹6.5 Crores₹19,697 per sq.ft.  ₹3.73 Lacs/Month  \n",
       "6  ₹2.8 Crores₹11,667 per sq.ft.   ₹1.6 Lacs/Month  \n",
       "7      ₹70 Lacs₹4,861 per sq.ft.     ₹40,120/Month  \n",
       "8  ₹1.6 Crores₹11,111 per sq.ft.     ₹91,703/Month  \n",
       "9   ₹1.1 Crores₹8,462 per sq.ft.     ₹63,045/Month  "
      ]
     },
     "execution_count": 71,
     "metadata": {},
     "output_type": "execute_result"
    }
   ],
   "source": [
    "#Creating a data frame\n",
    "df=pd.DataFrame()\n",
    "df['House Title']=ht\n",
    "df['Location']=lo\n",
    "df['Area']=ar\n",
    "df['Price']=price\n",
    "df['EMI']=em2\n",
    "df"
   ]
  },
  {
   "cell_type": "markdown",
   "metadata": {},
   "source": [
    "### 7. Write a python program to scrape details of all the mobile phones under Rs. 20,000 listed on Amazon.in. The scraped data should include Product Name, Price, Image URL and Average Rating."
   ]
  },
  {
   "cell_type": "code",
   "execution_count": 88,
   "metadata": {},
   "outputs": [],
   "source": [
    "#importing required libraries\n",
    "from bs4 import BeautifulSoup\n",
    "import requests\n",
    "import pandas as pd"
   ]
  },
  {
   "cell_type": "code",
   "execution_count": 99,
   "metadata": {},
   "outputs": [],
   "source": [
    "PN=[]\n",
    "Price=[]\n",
    "Img=[]\n",
    "AR=[]\n",
    "for i in range(1,20,1):\n",
    "    page=requests.get(\"https://www.amazon.in/s?k=Mobile+Phone+Under+20000&page=\"+str(i)+\"&qid=1624480173&ref=sr_pg_\"+str(i))\n",
    "    soup=BeautifulSoup(page.content)\n",
    "    pn=soup.find_all('span',class_=\"a-size-medium a-color-base a-text-normal\")\n",
    "    Pris=soup.find_all('span',class_=\"a-price-whole\")\n",
    "    ar=soup.find_all('span',class_=\"a-icon-alt\")\n",
    "    for i in pn:\n",
    "        PN.append(i.text)\n",
    "    for j in Pris:\n",
    "        Price.append(j.text)\n",
    "    for k in Pris:\n",
    "        AR.append(k.text)"
   ]
  },
  {
   "cell_type": "code",
   "execution_count": 102,
   "metadata": {},
   "outputs": [
    {
     "data": {
      "text/plain": [
       "(208, 187, 187)"
      ]
     },
     "execution_count": 102,
     "metadata": {},
     "output_type": "execute_result"
    }
   ],
   "source": [
    "len(PN),len(Price),len(AR)"
   ]
  },
  {
   "cell_type": "code",
   "execution_count": null,
   "metadata": {},
   "outputs": [],
   "source": []
  }
 ],
 "metadata": {
  "kernelspec": {
   "display_name": "Python 3",
   "language": "python",
   "name": "python3"
  },
  "language_info": {
   "codemirror_mode": {
    "name": "ipython",
    "version": 3
   },
   "file_extension": ".py",
   "mimetype": "text/x-python",
   "name": "python",
   "nbconvert_exporter": "python",
   "pygments_lexer": "ipython3",
   "version": "3.7.4"
  }
 },
 "nbformat": 4,
 "nbformat_minor": 2
}
